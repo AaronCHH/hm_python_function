{
 "cells": [
  {
   "cell_type": "markdown",
   "id": "15sWB2W2l-bk",
   "metadata": {
    "id": "15sWB2W2l-bk"
   },
   "source": [
    "<font color=#1E8449>☘ </font> 注意事項\n",
    "1. 如果您使用 Colab，在您熟悉 Colab 的操作環境之後，建議把介面改成英文版，以便讓程式碼有最好的顯示效果\n",
    " * 選擇 Colab 功能表裡的 <font color=#E59866>說明</font> - <font color=#E59866>查看英文版本</font> 即可將介面改成英文版\n",
    " * 要改回中文版，請關掉目前開啟的 Colab 網頁，再重新開啟您執行的 Colab 檔案即可（Colab 預設為中文版）\n",
    "2. 建議選擇暗色背景，長時間撰寫程式時眼睛會比較舒服\n",
    " * 在 Colab 裡選擇 <font color=#E59866>Tools（工具）</font> - <font color=#E59866> Settings （設定）</font> - <font color=#E59866> Site（網站）</font> - <font color=#E59866> Theme （主題）</font> - <font color=#E59866> Dark </font>\n",
    " * 在 Jupyter lab 中選擇 <font color=#E59866> Settings </font> - <font color=#E59866> JupyterLab theme </font> - <font color=#E59866> JupyerterLab Dark </font>\n",
    "\n"
   ]
  },
  {
   "cell_type": "markdown",
   "id": "aV6RsvWRwjLS",
   "metadata": {
    "id": "aV6RsvWRwjLS"
   },
   "source": [
    "## Chap 06 函數"
   ]
  },
  {
   "cell_type": "markdown",
   "id": "absent-submission",
   "metadata": {
    "id": "absent-submission"
   },
   "source": [
    "### 6.1 函數的基本概念"
   ]
  },
  {
   "cell_type": "code",
   "execution_count": 1,
   "id": "settled-potential",
   "metadata": {
    "colab": {
     "base_uri": "https://localhost:8080/"
    },
    "executionInfo": {
     "elapsed": 143,
     "status": "ok",
     "timestamp": 1650628389730,
     "user": {
      "displayName": "wien hong",
      "userId": "11131435925814580522"
     },
     "user_tz": -480
    },
    "id": "settled-potential",
    "outputId": "38873ef5-cdfa-4736-ca3b-4bde331966ae"
   },
   "outputs": [
    {
     "name": "stdout",
     "output_type": "stream",
     "text": [
      "5 + 2 = 7\n"
     ]
    }
   ],
   "source": [
    "print('5 + 2 =', 5 + 2)"
   ]
  },
  {
   "cell_type": "code",
   "execution_count": 2,
   "id": "studied-portsmouth",
   "metadata": {
    "colab": {
     "base_uri": "https://localhost:8080/"
    },
    "executionInfo": {
     "elapsed": 119,
     "status": "ok",
     "timestamp": 1650628389732,
     "user": {
      "displayName": "wien hong",
      "userId": "11131435925814580522"
     },
     "user_tz": -480
    },
    "id": "studied-portsmouth",
    "outputId": "a3132c95-6383-4b68-8791-43d6fbf57bda"
   },
   "outputs": [
    {
     "name": "stdout",
     "output_type": "stream",
     "text": [
      "Python\n"
     ]
    }
   ],
   "source": [
    "a = print('Python')"
   ]
  },
  {
   "cell_type": "code",
   "execution_count": 3,
   "id": "complimentary-chance",
   "metadata": {
    "colab": {
     "base_uri": "https://localhost:8080/"
    },
    "executionInfo": {
     "elapsed": 104,
     "status": "ok",
     "timestamp": 1650628389732,
     "user": {
      "displayName": "wien hong",
      "userId": "11131435925814580522"
     },
     "user_tz": -480
    },
    "id": "complimentary-chance",
    "outputId": "eefdd16f-a62d-40d3-8404-42e851fc4ad3"
   },
   "outputs": [
    {
     "name": "stdout",
     "output_type": "stream",
     "text": [
      "None\n"
     ]
    }
   ],
   "source": [
    "print(a)"
   ]
  },
  {
   "cell_type": "code",
   "execution_count": 4,
   "id": "found-opportunity",
   "metadata": {
    "colab": {
     "base_uri": "https://localhost:8080/"
    },
    "executionInfo": {
     "elapsed": 97,
     "status": "ok",
     "timestamp": 1650628389733,
     "user": {
      "displayName": "wien hong",
      "userId": "11131435925814580522"
     },
     "user_tz": -480
    },
    "id": "found-opportunity",
    "outputId": "3b19c0af-f815-4084-ae6b-9cbdbfb1d807"
   },
   "outputs": [
    {
     "data": {
      "text/plain": [
       "6"
      ]
     },
     "execution_count": 4,
     "metadata": {},
     "output_type": "execute_result"
    }
   ],
   "source": [
    "sum([1, 2, 3])"
   ]
  },
  {
   "cell_type": "code",
   "execution_count": 5,
   "id": "featured-rwanda",
   "metadata": {
    "colab": {
     "base_uri": "https://localhost:8080/"
    },
    "executionInfo": {
     "elapsed": 92,
     "status": "ok",
     "timestamp": 1650628389735,
     "user": {
      "displayName": "wien hong",
      "userId": "11131435925814580522"
     },
     "user_tz": -480
    },
    "id": "featured-rwanda",
    "outputId": "4cc659d2-24b6-4666-8474-9200431fa04b"
   },
   "outputs": [
    {
     "name": "stdout",
     "output_type": "stream",
     "text": [
      "6\n"
     ]
    }
   ],
   "source": [
    "a = sum([1, 2, 3])\n",
    "print(a)"
   ]
  },
  {
   "cell_type": "code",
   "execution_count": 6,
   "id": "resident-college",
   "metadata": {
    "colab": {
     "base_uri": "https://localhost:8080/"
    },
    "executionInfo": {
     "elapsed": 86,
     "status": "ok",
     "timestamp": 1650628389736,
     "user": {
      "displayName": "wien hong",
      "userId": "11131435925814580522"
     },
     "user_tz": -480
    },
    "id": "resident-college",
    "outputId": "c50529a1-727e-4c87-f33c-74a8401dd6e6"
   },
   "outputs": [
    {
     "data": {
      "text/plain": [
       "5"
      ]
     },
     "execution_count": 6,
     "metadata": {},
     "output_type": "execute_result"
    }
   ],
   "source": [
    "len([1, 2, 3, 4, 5])"
   ]
  },
  {
   "cell_type": "code",
   "execution_count": 7,
   "id": "instructional-flexibility",
   "metadata": {
    "id": "instructional-flexibility"
   },
   "outputs": [],
   "source": [
    "def print_star():\n",
    "  print('*******')"
   ]
  },
  {
   "cell_type": "code",
   "execution_count": 8,
   "id": "gothic-tablet",
   "metadata": {
    "colab": {
     "base_uri": "https://localhost:8080/"
    },
    "executionInfo": {
     "elapsed": 80,
     "status": "ok",
     "timestamp": 1650628389738,
     "user": {
      "displayName": "wien hong",
      "userId": "11131435925814580522"
     },
     "user_tz": -480
    },
    "id": "gothic-tablet",
    "outputId": "28266b33-3b33-49e6-d76a-4b686040268a"
   },
   "outputs": [
    {
     "name": "stdout",
     "output_type": "stream",
     "text": [
      "*******\n"
     ]
    }
   ],
   "source": [
    "print_star()"
   ]
  },
  {
   "cell_type": "code",
   "execution_count": 9,
   "id": "outer-estate",
   "metadata": {
    "colab": {
     "base_uri": "https://localhost:8080/"
    },
    "executionInfo": {
     "elapsed": 75,
     "status": "ok",
     "timestamp": 1650628389739,
     "user": {
      "displayName": "wien hong",
      "userId": "11131435925814580522"
     },
     "user_tz": -480
    },
    "id": "outer-estate",
    "outputId": "17770030-0811-4c06-de82-d0d5b7eacd59"
   },
   "outputs": [
    {
     "name": "stdout",
     "output_type": "stream",
     "text": [
      "*******\n",
      "*******\n"
     ]
    }
   ],
   "source": [
    "print_star()\n",
    "print_star()"
   ]
  },
  {
   "cell_type": "code",
   "execution_count": 10,
   "id": "minute-computer",
   "metadata": {
    "colab": {
     "base_uri": "https://localhost:8080/"
    },
    "executionInfo": {
     "elapsed": 68,
     "status": "ok",
     "timestamp": 1650628389739,
     "user": {
      "displayName": "wien hong",
      "userId": "11131435925814580522"
     },
     "user_tz": -480
    },
    "id": "minute-computer",
    "outputId": "5f85dadb-630b-4ba8-c478-0dee1cdf5519"
   },
   "outputs": [
    {
     "name": "stdout",
     "output_type": "stream",
     "text": [
      "*******\n",
      "None\n"
     ]
    }
   ],
   "source": [
    "val = print_star()\n",
    "print(val)"
   ]
  },
  {
   "cell_type": "code",
   "execution_count": 11,
   "id": "blind-school",
   "metadata": {
    "id": "blind-school"
   },
   "outputs": [],
   "source": [
    "def print_ch(n, ch):\n",
    "  print(n * ch)"
   ]
  },
  {
   "cell_type": "code",
   "execution_count": 12,
   "id": "saved-silicon",
   "metadata": {
    "colab": {
     "base_uri": "https://localhost:8080/"
    },
    "executionInfo": {
     "elapsed": 62,
     "status": "ok",
     "timestamp": 1650628389741,
     "user": {
      "displayName": "wien hong",
      "userId": "11131435925814580522"
     },
     "user_tz": -480
    },
    "id": "saved-silicon",
    "outputId": "1d5b10fd-71e3-4e7e-a2cf-5f64b7880994"
   },
   "outputs": [
    {
     "name": "stdout",
     "output_type": "stream",
     "text": [
      "##########\n"
     ]
    }
   ],
   "source": [
    "print_ch(10, '#')"
   ]
  },
  {
   "cell_type": "code",
   "execution_count": 13,
   "id": "brief-architecture",
   "metadata": {
    "colab": {
     "base_uri": "https://localhost:8080/"
    },
    "executionInfo": {
     "elapsed": 58,
     "status": "ok",
     "timestamp": 1650628389743,
     "user": {
      "displayName": "wien hong",
      "userId": "11131435925814580522"
     },
     "user_tz": -480
    },
    "id": "brief-architecture",
    "outputId": "5bc1b061-1b42-4205-9a59-774bf0a32b64"
   },
   "outputs": [
    {
     "name": "stdout",
     "output_type": "stream",
     "text": [
      "vvvvvvvvvvvvvvvvvvvv\n"
     ]
    }
   ],
   "source": [
    "print_ch(20, 'v')"
   ]
  },
  {
   "cell_type": "code",
   "execution_count": 14,
   "id": "activated-construction",
   "metadata": {
    "id": "activated-construction"
   },
   "outputs": [],
   "source": [
    "def square(x):\n",
    "  print(f'{x}**2 is {x**2}')"
   ]
  },
  {
   "cell_type": "code",
   "execution_count": 15,
   "id": "straight-matter",
   "metadata": {
    "colab": {
     "base_uri": "https://localhost:8080/"
    },
    "executionInfo": {
     "elapsed": 53,
     "status": "ok",
     "timestamp": 1650628389745,
     "user": {
      "displayName": "wien hong",
      "userId": "11131435925814580522"
     },
     "user_tz": -480
    },
    "id": "straight-matter",
    "outputId": "3421666d-1c5e-476e-eae9-597c389ce21b"
   },
   "outputs": [
    {
     "name": "stdout",
     "output_type": "stream",
     "text": [
      "16**2 is 256\n"
     ]
    }
   ],
   "source": [
    "square(16)"
   ]
  },
  {
   "cell_type": "code",
   "execution_count": 16,
   "id": "selective-jacksonville",
   "metadata": {
    "colab": {
     "base_uri": "https://localhost:8080/"
    },
    "executionInfo": {
     "elapsed": 45,
     "status": "ok",
     "timestamp": 1650628389745,
     "user": {
      "displayName": "wien hong",
      "userId": "11131435925814580522"
     },
     "user_tz": -480
    },
    "id": "selective-jacksonville",
    "outputId": "19737a8b-5f2b-45af-e4ee-74f3958276bb"
   },
   "outputs": [
    {
     "name": "stdout",
     "output_type": "stream",
     "text": [
      "16**2 is 256\n"
     ]
    }
   ],
   "source": [
    "z = square(16)"
   ]
  },
  {
   "cell_type": "code",
   "execution_count": 17,
   "id": "chronic-parent",
   "metadata": {
    "colab": {
     "base_uri": "https://localhost:8080/"
    },
    "executionInfo": {
     "elapsed": 40,
     "status": "ok",
     "timestamp": 1650628389746,
     "user": {
      "displayName": "wien hong",
      "userId": "11131435925814580522"
     },
     "user_tz": -480
    },
    "id": "chronic-parent",
    "outputId": "9d008652-b7c7-4522-bfa0-033f10f9b722"
   },
   "outputs": [
    {
     "name": "stdout",
     "output_type": "stream",
     "text": [
      "None\n"
     ]
    }
   ],
   "source": [
    "print(z)"
   ]
  },
  {
   "cell_type": "code",
   "execution_count": 18,
   "id": "partial-night",
   "metadata": {
    "id": "partial-night"
   },
   "outputs": [],
   "source": [
    "def square_2(x):\n",
    "  return x**2"
   ]
  },
  {
   "cell_type": "code",
   "execution_count": 19,
   "id": "governmental-dealing",
   "metadata": {
    "colab": {
     "base_uri": "https://localhost:8080/"
    },
    "executionInfo": {
     "elapsed": 92,
     "status": "ok",
     "timestamp": 1650628390249,
     "user": {
      "displayName": "wien hong",
      "userId": "11131435925814580522"
     },
     "user_tz": -480
    },
    "id": "governmental-dealing",
    "outputId": "cee2b7d7-8207-4b36-8efd-bff72f8405ef"
   },
   "outputs": [
    {
     "data": {
      "text/plain": [
       "144"
      ]
     },
     "execution_count": 19,
     "metadata": {},
     "output_type": "execute_result"
    }
   ],
   "source": [
    "square_2(12)"
   ]
  },
  {
   "cell_type": "code",
   "execution_count": 20,
   "id": "champion-interest",
   "metadata": {
    "id": "champion-interest"
   },
   "outputs": [],
   "source": [
    "z = square_2(12)"
   ]
  },
  {
   "cell_type": "code",
   "execution_count": 21,
   "id": "catholic-champagne",
   "metadata": {
    "colab": {
     "base_uri": "https://localhost:8080/"
    },
    "executionInfo": {
     "elapsed": 85,
     "status": "ok",
     "timestamp": 1650628390250,
     "user": {
      "displayName": "wien hong",
      "userId": "11131435925814580522"
     },
     "user_tz": -480
    },
    "id": "catholic-champagne",
    "outputId": "72d0851f-f71c-4a91-fe63-a7a392d356cc"
   },
   "outputs": [
    {
     "name": "stdout",
     "output_type": "stream",
     "text": [
      "144\n"
     ]
    }
   ],
   "source": [
    "print(z)"
   ]
  },
  {
   "cell_type": "code",
   "execution_count": 22,
   "id": "cognitive-premises",
   "metadata": {
    "id": "cognitive-premises"
   },
   "outputs": [],
   "source": [
    "def larger(a, b):\n",
    "  if a > b:\n",
    "    return a\n",
    "  else:\n",
    "    return b"
   ]
  },
  {
   "cell_type": "code",
   "execution_count": 23,
   "id": "micro-ensemble",
   "metadata": {
    "colab": {
     "base_uri": "https://localhost:8080/"
    },
    "executionInfo": {
     "elapsed": 80,
     "status": "ok",
     "timestamp": 1650628390251,
     "user": {
      "displayName": "wien hong",
      "userId": "11131435925814580522"
     },
     "user_tz": -480
    },
    "id": "micro-ensemble",
    "outputId": "31241603-28e9-4f12-cdc6-6f1e879a0a6c"
   },
   "outputs": [
    {
     "data": {
      "text/plain": [
       "8"
      ]
     },
     "execution_count": 23,
     "metadata": {},
     "output_type": "execute_result"
    }
   ],
   "source": [
    "larger(8, 7)"
   ]
  },
  {
   "cell_type": "code",
   "execution_count": 24,
   "id": "separate-despite",
   "metadata": {
    "colab": {
     "base_uri": "https://localhost:8080/"
    },
    "executionInfo": {
     "elapsed": 75,
     "status": "ok",
     "timestamp": 1650628390251,
     "user": {
      "displayName": "wien hong",
      "userId": "11131435925814580522"
     },
     "user_tz": -480
    },
    "id": "separate-despite",
    "outputId": "3aeec36d-fcc4-45a9-a9c6-9cb89c00e871"
   },
   "outputs": [
    {
     "data": {
      "text/plain": [
       "8"
      ]
     },
     "execution_count": 24,
     "metadata": {},
     "output_type": "execute_result"
    }
   ],
   "source": [
    "larger(7, 8)"
   ]
  },
  {
   "cell_type": "code",
   "execution_count": 25,
   "id": "scenic-venice",
   "metadata": {
    "id": "scenic-venice"
   },
   "outputs": [],
   "source": [
    "def quo_rem(a, b):\n",
    "  quo = a // b  # quotion\n",
    "  rem = a % b  # remainder\n",
    "  return quo, rem"
   ]
  },
  {
   "cell_type": "code",
   "execution_count": 26,
   "id": "sacred-reaction",
   "metadata": {
    "colab": {
     "base_uri": "https://localhost:8080/"
    },
    "executionInfo": {
     "elapsed": 70,
     "status": "ok",
     "timestamp": 1650628390252,
     "user": {
      "displayName": "wien hong",
      "userId": "11131435925814580522"
     },
     "user_tz": -480
    },
    "id": "sacred-reaction",
    "outputId": "6398d536-06a7-498c-f8da-a45e730fe23e"
   },
   "outputs": [
    {
     "data": {
      "text/plain": [
       "(3, 2)"
      ]
     },
     "execution_count": 26,
     "metadata": {},
     "output_type": "execute_result"
    }
   ],
   "source": [
    "quo_rem(17, 5)"
   ]
  },
  {
   "cell_type": "code",
   "execution_count": 27,
   "id": "female-detective",
   "metadata": {
    "colab": {
     "base_uri": "https://localhost:8080/"
    },
    "executionInfo": {
     "elapsed": 66,
     "status": "ok",
     "timestamp": 1650628390253,
     "user": {
      "displayName": "wien hong",
      "userId": "11131435925814580522"
     },
     "user_tz": -480
    },
    "id": "female-detective",
    "outputId": "f19949ef-5b17-4e6d-cf9a-dafa20ad6067"
   },
   "outputs": [
    {
     "data": {
      "text/plain": [
       "(3, 2)"
      ]
     },
     "execution_count": 27,
     "metadata": {},
     "output_type": "execute_result"
    }
   ],
   "source": [
    "x = quo_rem(17, 5)\n",
    "x"
   ]
  },
  {
   "cell_type": "code",
   "execution_count": 28,
   "id": "downtown-mumbai",
   "metadata": {
    "id": "downtown-mumbai"
   },
   "outputs": [],
   "source": [
    "y, z = quo_rem(17, 5)"
   ]
  },
  {
   "cell_type": "code",
   "execution_count": 29,
   "id": "rubber-duplicate",
   "metadata": {
    "colab": {
     "base_uri": "https://localhost:8080/"
    },
    "executionInfo": {
     "elapsed": 61,
     "status": "ok",
     "timestamp": 1650628390253,
     "user": {
      "displayName": "wien hong",
      "userId": "11131435925814580522"
     },
     "user_tz": -480
    },
    "id": "rubber-duplicate",
    "outputId": "2dda30fc-2553-44ac-ebc1-c23671b15f98"
   },
   "outputs": [
    {
     "name": "stdout",
     "output_type": "stream",
     "text": [
      "3 2\n"
     ]
    }
   ],
   "source": [
    "print(y, z)"
   ]
  },
  {
   "cell_type": "code",
   "execution_count": 30,
   "id": "wrong-ukraine",
   "metadata": {
    "id": "wrong-ukraine"
   },
   "outputs": [],
   "source": [
    "def squ_list(lst):\n",
    "  return [n**2 for n in lst]"
   ]
  },
  {
   "cell_type": "code",
   "execution_count": 31,
   "id": "proud-bridal",
   "metadata": {
    "colab": {
     "base_uri": "https://localhost:8080/"
    },
    "executionInfo": {
     "elapsed": 58,
     "status": "ok",
     "timestamp": 1650628390254,
     "user": {
      "displayName": "wien hong",
      "userId": "11131435925814580522"
     },
     "user_tz": -480
    },
    "id": "proud-bridal",
    "outputId": "fd3f8ffe-74a9-470a-eab1-cd4a8baec2c1"
   },
   "outputs": [
    {
     "data": {
      "text/plain": [
       "[16, 9, 4]"
      ]
     },
     "execution_count": 31,
     "metadata": {},
     "output_type": "execute_result"
    }
   ],
   "source": [
    "squ_list([4, 3, 2])"
   ]
  },
  {
   "cell_type": "code",
   "execution_count": 32,
   "id": "premium-unemployment",
   "metadata": {
    "id": "premium-unemployment"
   },
   "outputs": [],
   "source": [
    "def clip(lst, min_, max_):\n",
    "  new_lst = []\n",
    "  for n in lst:\n",
    "    if n < min_:  # 比最小值還小\n",
    "      new_lst.append(min_)\n",
    "    elif n > max_:  # 比最大值還大\n",
    "      new_lst.append(max_)\n",
    "    else:\n",
    "      new_lst.append(n)\n",
    "  return new_lst"
   ]
  },
  {
   "cell_type": "code",
   "execution_count": 33,
   "id": "peaceful-guest",
   "metadata": {
    "colab": {
     "base_uri": "https://localhost:8080/"
    },
    "executionInfo": {
     "elapsed": 54,
     "status": "ok",
     "timestamp": 1650628390255,
     "user": {
      "displayName": "wien hong",
      "userId": "11131435925814580522"
     },
     "user_tz": -480
    },
    "id": "peaceful-guest",
    "outputId": "a4708cf0-9c7f-4ea0-bd3f-c7b347e8e260"
   },
   "outputs": [
    {
     "data": {
      "text/plain": [
       "[12, 0, 7, 255, 220]"
      ]
     },
     "execution_count": 33,
     "metadata": {},
     "output_type": "execute_result"
    }
   ],
   "source": [
    "clip([12, -3, 7, 300, 220], 0, 255)"
   ]
  },
  {
   "cell_type": "code",
   "execution_count": 34,
   "id": "located-illness",
   "metadata": {
    "id": "located-illness"
   },
   "outputs": [],
   "source": [
    "lst = clip([-2, 6, 7, 40, 16], 0, 10)"
   ]
  },
  {
   "cell_type": "code",
   "execution_count": 35,
   "id": "equal-skiing",
   "metadata": {
    "colab": {
     "base_uri": "https://localhost:8080/"
    },
    "executionInfo": {
     "elapsed": 50,
     "status": "ok",
     "timestamp": 1650628390256,
     "user": {
      "displayName": "wien hong",
      "userId": "11131435925814580522"
     },
     "user_tz": -480
    },
    "id": "equal-skiing",
    "outputId": "9dfbf302-627f-454f-df58-f74e0e044cd0"
   },
   "outputs": [
    {
     "data": {
      "text/plain": [
       "[0, 6, 7, 10, 10]"
      ]
     },
     "execution_count": 35,
     "metadata": {},
     "output_type": "execute_result"
    }
   ],
   "source": [
    "lst"
   ]
  },
  {
   "cell_type": "markdown",
   "id": "important-collins",
   "metadata": {
    "id": "important-collins"
   },
   "source": [
    "### 6.2 參數的傳遞機制"
   ]
  },
  {
   "cell_type": "code",
   "execution_count": 36,
   "id": "HUrpjlQEPVhV",
   "metadata": {
    "id": "HUrpjlQEPVhV"
   },
   "outputs": [],
   "source": [
    "x = [1, 2, 3]\n",
    "y = (4, 5)\n",
    "a = x\n",
    "a[0] = 12"
   ]
  },
  {
   "cell_type": "code",
   "execution_count": 37,
   "id": "xl1djcBkQGMB",
   "metadata": {
    "id": "xl1djcBkQGMB"
   },
   "outputs": [],
   "source": [
    "b = x.copy()\n",
    "x = y"
   ]
  },
  {
   "cell_type": "markdown",
   "id": "0BvEgsN-redZ",
   "metadata": {
    "id": "0BvEgsN-redZ"
   },
   "source": [
    "[在 Pythontutors 裡執行上面的程式碼](https://pythontutor.com/live.html#code=x%3D%5B1,2,3%5D%3B%0Ay%3D%284,5%29%3B%0Aa%3Dx%3B%0Aa%5B0%5D%3D12%0Ab%3Dx.copy%28%29%3B%0Ax%3Dy&cumulative=false&curInstr=6&heapPrimitives=nevernest&mode=display&origin=opt-live.js&py=3&rawInputLstJSON=%5B%5D&textReferences=false)"
   ]
  },
  {
   "cell_type": "code",
   "execution_count": 38,
   "id": "australian-berry",
   "metadata": {
    "id": "australian-berry"
   },
   "outputs": [],
   "source": [
    "def fun1(tpl):  # 接受一個 tuple\n",
    "  tpl = (4, 5, 6)  # 重設 tpl 的值"
   ]
  },
  {
   "cell_type": "code",
   "execution_count": 39,
   "id": "level-stephen",
   "metadata": {
    "id": "level-stephen"
   },
   "outputs": [],
   "source": [
    "t = (1, 2, 3)"
   ]
  },
  {
   "cell_type": "code",
   "execution_count": 40,
   "id": "convenient-april",
   "metadata": {
    "colab": {
     "base_uri": "https://localhost:8080/"
    },
    "executionInfo": {
     "elapsed": 46,
     "status": "ok",
     "timestamp": 1650628390258,
     "user": {
      "displayName": "wien hong",
      "userId": "11131435925814580522"
     },
     "user_tz": -480
    },
    "id": "convenient-april",
    "outputId": "238fc528-9db6-426e-88f2-fdf59e565664"
   },
   "outputs": [
    {
     "data": {
      "text/plain": [
       "(1, 2, 3)"
      ]
     },
     "execution_count": 40,
     "metadata": {},
     "output_type": "execute_result"
    }
   ],
   "source": [
    "fun1(t)\n",
    "t"
   ]
  },
  {
   "cell_type": "code",
   "execution_count": 41,
   "id": "violent-collective",
   "metadata": {
    "id": "violent-collective"
   },
   "outputs": [],
   "source": [
    "def fun2(lst):  # 傳進一個list\n",
    "  for i in range(len(lst)):\n",
    "    lst[i] = lst[i]**2  # 將每個元素平方"
   ]
  },
  {
   "cell_type": "code",
   "execution_count": 42,
   "id": "latter-malpractice",
   "metadata": {
    "id": "latter-malpractice"
   },
   "outputs": [],
   "source": [
    "alist = [12, 3, 4]"
   ]
  },
  {
   "cell_type": "code",
   "execution_count": 43,
   "id": "secret-thesaurus",
   "metadata": {
    "id": "secret-thesaurus"
   },
   "outputs": [],
   "source": [
    "fun2(alist)"
   ]
  },
  {
   "cell_type": "code",
   "execution_count": 44,
   "id": "unlikely-country",
   "metadata": {
    "colab": {
     "base_uri": "https://localhost:8080/"
    },
    "executionInfo": {
     "elapsed": 43,
     "status": "ok",
     "timestamp": 1650628390260,
     "user": {
      "displayName": "wien hong",
      "userId": "11131435925814580522"
     },
     "user_tz": -480
    },
    "id": "unlikely-country",
    "outputId": "dbc5e67a-fc5f-4b2a-b9dc-bbaedcccdfeb"
   },
   "outputs": [
    {
     "data": {
      "text/plain": [
       "[144, 9, 16]"
      ]
     },
     "execution_count": 44,
     "metadata": {},
     "output_type": "execute_result"
    }
   ],
   "source": [
    "alist"
   ]
  },
  {
   "cell_type": "code",
   "execution_count": 45,
   "id": "wound-design",
   "metadata": {
    "id": "wound-design"
   },
   "outputs": [],
   "source": [
    "def remove_negative(set1):\n",
    "  neg = [i for i in set1 if i < 0]\n",
    "  for e in neg:\n",
    "    set1.remove(e)"
   ]
  },
  {
   "cell_type": "code",
   "execution_count": 46,
   "id": "charming-nutrition",
   "metadata": {
    "id": "charming-nutrition"
   },
   "outputs": [],
   "source": [
    "s1 = {1, 3, 4, -2, -5}"
   ]
  },
  {
   "cell_type": "code",
   "execution_count": 47,
   "id": "continent-forestry",
   "metadata": {
    "id": "continent-forestry"
   },
   "outputs": [],
   "source": [
    "remove_negative(s1)"
   ]
  },
  {
   "cell_type": "code",
   "execution_count": 48,
   "id": "medical-trouble",
   "metadata": {
    "colab": {
     "base_uri": "https://localhost:8080/"
    },
    "executionInfo": {
     "elapsed": 40,
     "status": "ok",
     "timestamp": 1650628390262,
     "user": {
      "displayName": "wien hong",
      "userId": "11131435925814580522"
     },
     "user_tz": -480
    },
    "id": "medical-trouble",
    "outputId": "b3cc6f7a-d97c-4e13-cf08-1389cfac6426"
   },
   "outputs": [
    {
     "data": {
      "text/plain": [
       "{1, 3, 4}"
      ]
     },
     "execution_count": 48,
     "metadata": {},
     "output_type": "execute_result"
    }
   ],
   "source": [
    "s1"
   ]
  },
  {
   "cell_type": "code",
   "execution_count": 49,
   "id": "statistical-galaxy",
   "metadata": {
    "id": "statistical-galaxy"
   },
   "outputs": [],
   "source": [
    "def remove_negative2(set1):\n",
    "  set2 = set1.copy()\n",
    "  neg = [i for i in set2 if i < 0]\n",
    "  for e in neg:\n",
    "    set2.remove(e)\n",
    "  return set2"
   ]
  },
  {
   "cell_type": "code",
   "execution_count": 50,
   "id": "orange-capability",
   "metadata": {
    "id": "orange-capability"
   },
   "outputs": [],
   "source": [
    "s1 = {1, 3, 4, -2, -5}"
   ]
  },
  {
   "cell_type": "code",
   "execution_count": 51,
   "id": "unlimited-angel",
   "metadata": {
    "id": "unlimited-angel"
   },
   "outputs": [],
   "source": [
    "s2 = remove_negative2(s1)"
   ]
  },
  {
   "cell_type": "code",
   "execution_count": 52,
   "id": "operational-coupon",
   "metadata": {
    "colab": {
     "base_uri": "https://localhost:8080/"
    },
    "executionInfo": {
     "elapsed": 38,
     "status": "ok",
     "timestamp": 1650628390265,
     "user": {
      "displayName": "wien hong",
      "userId": "11131435925814580522"
     },
     "user_tz": -480
    },
    "id": "operational-coupon",
    "outputId": "16f4f6d1-d78e-4134-8c17-6a11024f9aea"
   },
   "outputs": [
    {
     "data": {
      "text/plain": [
       "{1, 3, 4}"
      ]
     },
     "execution_count": 52,
     "metadata": {},
     "output_type": "execute_result"
    }
   ],
   "source": [
    "s2"
   ]
  },
  {
   "cell_type": "code",
   "execution_count": 53,
   "id": "regional-hebrew",
   "metadata": {
    "colab": {
     "base_uri": "https://localhost:8080/"
    },
    "executionInfo": {
     "elapsed": 33,
     "status": "ok",
     "timestamp": 1650628390265,
     "user": {
      "displayName": "wien hong",
      "userId": "11131435925814580522"
     },
     "user_tz": -480
    },
    "id": "regional-hebrew",
    "outputId": "cbc5d473-ef5a-4d83-d52c-beb40d3133d0"
   },
   "outputs": [
    {
     "data": {
      "text/plain": [
       "{-5, -2, 1, 3, 4}"
      ]
     },
     "execution_count": 53,
     "metadata": {},
     "output_type": "execute_result"
    }
   ],
   "source": [
    "s1"
   ]
  },
  {
   "cell_type": "markdown",
   "id": "quantitative-riverside",
   "metadata": {
    "id": "quantitative-riverside"
   },
   "source": [
    "### 6.3 關於傳入的參數 "
   ]
  },
  {
   "cell_type": "markdown",
   "id": "designed-venice",
   "metadata": {
    "id": "designed-venice"
   },
   "source": [
    "#### 6.3.1 參數的預設值"
   ]
  },
  {
   "cell_type": "code",
   "execution_count": 54,
   "id": "daily-award",
   "metadata": {
    "id": "daily-award"
   },
   "outputs": [],
   "source": [
    "def print_ch(char, num=10):\n",
    "  for i in range(num):\n",
    "    print(char, end='')"
   ]
  },
  {
   "cell_type": "code",
   "execution_count": 55,
   "id": "unauthorized-catalyst",
   "metadata": {
    "colab": {
     "base_uri": "https://localhost:8080/"
    },
    "executionInfo": {
     "elapsed": 97,
     "status": "ok",
     "timestamp": 1650628390888,
     "user": {
      "displayName": "wien hong",
      "userId": "11131435925814580522"
     },
     "user_tz": -480
    },
    "id": "unauthorized-catalyst",
    "outputId": "6c4e9f4d-29e9-4e31-e392-42b097717fcf"
   },
   "outputs": [
    {
     "name": "stdout",
     "output_type": "stream",
     "text": [
      "**********"
     ]
    }
   ],
   "source": [
    "print_ch('*')"
   ]
  },
  {
   "cell_type": "code",
   "execution_count": 56,
   "id": "introductory-tunisia",
   "metadata": {
    "colab": {
     "base_uri": "https://localhost:8080/"
    },
    "executionInfo": {
     "elapsed": 95,
     "status": "ok",
     "timestamp": 1650628390889,
     "user": {
      "displayName": "wien hong",
      "userId": "11131435925814580522"
     },
     "user_tz": -480
    },
    "id": "introductory-tunisia",
    "outputId": "aabce584-e931-45b1-fefa-eb5423443f21"
   },
   "outputs": [
    {
     "name": "stdout",
     "output_type": "stream",
     "text": [
      "***************"
     ]
    }
   ],
   "source": [
    "print_ch('*', 15)"
   ]
  },
  {
   "cell_type": "code",
   "execution_count": 57,
   "id": "frequent-wrestling",
   "metadata": {
    "id": "frequent-wrestling"
   },
   "outputs": [],
   "source": [
    "#print_ch()"
   ]
  },
  {
   "cell_type": "code",
   "execution_count": 58,
   "id": "turkish-president",
   "metadata": {
    "id": "turkish-president"
   },
   "outputs": [],
   "source": [
    "def print_ch2(char='*', num=10):\n",
    "  for i in range(num):\n",
    "    print(char, end='')"
   ]
  },
  {
   "cell_type": "code",
   "execution_count": 59,
   "id": "awful-rough",
   "metadata": {
    "colab": {
     "base_uri": "https://localhost:8080/"
    },
    "executionInfo": {
     "elapsed": 91,
     "status": "ok",
     "timestamp": 1650628390892,
     "user": {
      "displayName": "wien hong",
      "userId": "11131435925814580522"
     },
     "user_tz": -480
    },
    "id": "awful-rough",
    "outputId": "65830e21-7b80-40ee-899f-f6349101bbab"
   },
   "outputs": [
    {
     "name": "stdout",
     "output_type": "stream",
     "text": [
      "**********"
     ]
    }
   ],
   "source": [
    "print_ch2()"
   ]
  },
  {
   "cell_type": "code",
   "execution_count": 60,
   "id": "fourth-result",
   "metadata": {
    "colab": {
     "base_uri": "https://localhost:8080/"
    },
    "executionInfo": {
     "elapsed": 88,
     "status": "ok",
     "timestamp": 1650628390893,
     "user": {
      "displayName": "wien hong",
      "userId": "11131435925814580522"
     },
     "user_tz": -480
    },
    "id": "fourth-result",
    "outputId": "dd0cc7d9-a5e2-4d10-dad2-f866d286e924"
   },
   "outputs": [
    {
     "name": "stdout",
     "output_type": "stream",
     "text": [
      "$$$$$$$$$$"
     ]
    }
   ],
   "source": [
    "print_ch2('$')"
   ]
  },
  {
   "cell_type": "code",
   "execution_count": 61,
   "id": "empirical-radical",
   "metadata": {
    "colab": {
     "base_uri": "https://localhost:8080/"
    },
    "executionInfo": {
     "elapsed": 85,
     "status": "ok",
     "timestamp": 1650628390894,
     "user": {
      "displayName": "wien hong",
      "userId": "11131435925814580522"
     },
     "user_tz": -480
    },
    "id": "empirical-radical",
    "outputId": "141d453b-a8c6-40d8-e7a2-761c7ffbe78b"
   },
   "outputs": [
    {
     "name": "stdout",
     "output_type": "stream",
     "text": [
      "$$$$$$$$$$$$$$$"
     ]
    }
   ],
   "source": [
    "print_ch2('$', 15)"
   ]
  },
  {
   "cell_type": "code",
   "execution_count": 62,
   "id": "surgical-drama",
   "metadata": {
    "colab": {
     "base_uri": "https://localhost:8080/"
    },
    "executionInfo": {
     "elapsed": 82,
     "status": "ok",
     "timestamp": 1650628390895,
     "user": {
      "displayName": "wien hong",
      "userId": "11131435925814580522"
     },
     "user_tz": -480
    },
    "id": "surgical-drama",
    "outputId": "118a1335-f9cd-4de1-a733-53e1b7633bd5"
   },
   "outputs": [
    {
     "name": "stdout",
     "output_type": "stream",
     "text": [
      "9999999999"
     ]
    }
   ],
   "source": [
    "print_ch2(9)"
   ]
  },
  {
   "cell_type": "code",
   "execution_count": 63,
   "id": "incident-green",
   "metadata": {
    "id": "incident-green"
   },
   "outputs": [],
   "source": [
    "# def print_ch3(char='*',num):\n",
    "#    for i in range(num):\n",
    "#        print(char,end='')"
   ]
  },
  {
   "cell_type": "markdown",
   "id": "latest-accessory",
   "metadata": {
    "id": "latest-accessory"
   },
   "source": [
    "#### 6.3.2 位置參數與指名參數 "
   ]
  },
  {
   "cell_type": "code",
   "execution_count": 64,
   "id": "metric-reflection",
   "metadata": {
    "id": "metric-reflection"
   },
   "outputs": [],
   "source": [
    "def print_ch4(char='*', num=10):\n",
    "  for i in range(num):\n",
    "    print(char, end='')"
   ]
  },
  {
   "cell_type": "code",
   "execution_count": 65,
   "id": "vietnamese-female",
   "metadata": {
    "colab": {
     "base_uri": "https://localhost:8080/"
    },
    "executionInfo": {
     "elapsed": 78,
     "status": "ok",
     "timestamp": 1650628390897,
     "user": {
      "displayName": "wien hong",
      "userId": "11131435925814580522"
     },
     "user_tz": -480
    },
    "id": "vietnamese-female",
    "outputId": "5634775c-b2d1-4279-8494-eedd2c35dc9e"
   },
   "outputs": [
    {
     "name": "stdout",
     "output_type": "stream",
     "text": [
      "********************"
     ]
    }
   ],
   "source": [
    "print_ch4(num=20)"
   ]
  },
  {
   "cell_type": "code",
   "execution_count": 66,
   "id": "identified-registration",
   "metadata": {
    "colab": {
     "base_uri": "https://localhost:8080/"
    },
    "executionInfo": {
     "elapsed": 74,
     "status": "ok",
     "timestamp": 1650628390897,
     "user": {
      "displayName": "wien hong",
      "userId": "11131435925814580522"
     },
     "user_tz": -480
    },
    "id": "identified-registration",
    "outputId": "335c79ef-1c30-404a-941b-a6e819477a9e"
   },
   "outputs": [
    {
     "name": "stdout",
     "output_type": "stream",
     "text": [
      "%%%%%%%%%%"
     ]
    }
   ],
   "source": [
    "print_ch4(char='%')"
   ]
  },
  {
   "cell_type": "code",
   "execution_count": 67,
   "id": "juvenile-lesbian",
   "metadata": {
    "colab": {
     "base_uri": "https://localhost:8080/"
    },
    "executionInfo": {
     "elapsed": 71,
     "status": "ok",
     "timestamp": 1650628390898,
     "user": {
      "displayName": "wien hong",
      "userId": "11131435925814580522"
     },
     "user_tz": -480
    },
    "id": "juvenile-lesbian",
    "outputId": "ad718479-8f39-4b88-c7e5-00e6d3decac8"
   },
   "outputs": [
    {
     "name": "stdout",
     "output_type": "stream",
     "text": [
      "***************"
     ]
    }
   ],
   "source": [
    "print_ch4(num=15, char='*')"
   ]
  },
  {
   "cell_type": "code",
   "execution_count": 68,
   "id": "affected-belief",
   "metadata": {
    "id": "affected-belief"
   },
   "outputs": [],
   "source": [
    "def print_ch5(char, num):\n",
    "  for i in range(num):\n",
    "    print(char, end='')"
   ]
  },
  {
   "cell_type": "code",
   "execution_count": 69,
   "id": "included-trouble",
   "metadata": {
    "colab": {
     "base_uri": "https://localhost:8080/"
    },
    "executionInfo": {
     "elapsed": 68,
     "status": "ok",
     "timestamp": 1650628390899,
     "user": {
      "displayName": "wien hong",
      "userId": "11131435925814580522"
     },
     "user_tz": -480
    },
    "id": "included-trouble",
    "outputId": "22e794f2-688a-4c2c-fe7d-d498adfdc7b0"
   },
   "outputs": [
    {
     "name": "stdout",
     "output_type": "stream",
     "text": [
      "QQQQQQQQQQQQQQQQQQQQ"
     ]
    }
   ],
   "source": [
    "print_ch5(num=20, char='Q')"
   ]
  },
  {
   "cell_type": "code",
   "execution_count": 70,
   "id": "electronic-brake",
   "metadata": {
    "colab": {
     "base_uri": "https://localhost:8080/"
    },
    "executionInfo": {
     "elapsed": 65,
     "status": "ok",
     "timestamp": 1650628390900,
     "user": {
      "displayName": "wien hong",
      "userId": "11131435925814580522"
     },
     "user_tz": -480
    },
    "id": "electronic-brake",
    "outputId": "10745df3-6d75-47b3-88db-cefb2d0f6771"
   },
   "outputs": [
    {
     "name": "stdout",
     "output_type": "stream",
     "text": [
      "2#5@"
     ]
    }
   ],
   "source": [
    "print(2, 5, sep='#', end='@')"
   ]
  },
  {
   "cell_type": "code",
   "execution_count": 71,
   "id": "particular-designer",
   "metadata": {
    "colab": {
     "base_uri": "https://localhost:8080/"
    },
    "executionInfo": {
     "elapsed": 62,
     "status": "ok",
     "timestamp": 1650628390901,
     "user": {
      "displayName": "wien hong",
      "userId": "11131435925814580522"
     },
     "user_tz": -480
    },
    "id": "particular-designer",
    "outputId": "b0b5b559-bcb8-4b29-ad86-9f0ce77e4853"
   },
   "outputs": [
    {
     "name": "stdout",
     "output_type": "stream",
     "text": [
      "2#5@"
     ]
    }
   ],
   "source": [
    "print(2, 5, end='@', sep='#')"
   ]
  },
  {
   "cell_type": "markdown",
   "id": "quick-crossing",
   "metadata": {
    "id": "quick-crossing"
   },
   "source": [
    "#### 6.3.3 傳遞任意個數的參數"
   ]
  },
  {
   "cell_type": "code",
   "execution_count": 72,
   "id": "surprised-secretariat",
   "metadata": {
    "id": "surprised-secretariat"
   },
   "outputs": [],
   "source": [
    "def print_args(*args):\n",
    "  print('args =', args)\n",
    "  print('len =', len(args))"
   ]
  },
  {
   "cell_type": "code",
   "execution_count": 73,
   "id": "conceptual-automation",
   "metadata": {
    "colab": {
     "base_uri": "https://localhost:8080/"
    },
    "executionInfo": {
     "elapsed": 60,
     "status": "ok",
     "timestamp": 1650628390904,
     "user": {
      "displayName": "wien hong",
      "userId": "11131435925814580522"
     },
     "user_tz": -480
    },
    "id": "conceptual-automation",
    "outputId": "eaa51f62-1118-4941-d651-a4403ed30e0e"
   },
   "outputs": [
    {
     "name": "stdout",
     "output_type": "stream",
     "text": [
      "args = (2, 3, 4, 5)\n",
      "len = 4\n"
     ]
    }
   ],
   "source": [
    "print_args(2, 3, 4, 5)"
   ]
  },
  {
   "cell_type": "code",
   "execution_count": 74,
   "id": "corrected-vinyl",
   "metadata": {
    "colab": {
     "base_uri": "https://localhost:8080/"
    },
    "executionInfo": {
     "elapsed": 57,
     "status": "ok",
     "timestamp": 1650628390904,
     "user": {
      "displayName": "wien hong",
      "userId": "11131435925814580522"
     },
     "user_tz": -480
    },
    "id": "corrected-vinyl",
    "outputId": "753f8542-01b9-4c5c-a174-7a6881a56381"
   },
   "outputs": [
    {
     "name": "stdout",
     "output_type": "stream",
     "text": [
      "args = ('Hello', 'Kitty')\n",
      "len = 2\n"
     ]
    }
   ],
   "source": [
    "print_args('Hello', 'Kitty')"
   ]
  },
  {
   "cell_type": "code",
   "execution_count": 75,
   "id": "operational-parallel",
   "metadata": {
    "colab": {
     "base_uri": "https://localhost:8080/"
    },
    "executionInfo": {
     "elapsed": 53,
     "status": "ok",
     "timestamp": 1650628390905,
     "user": {
      "displayName": "wien hong",
      "userId": "11131435925814580522"
     },
     "user_tz": -480
    },
    "id": "operational-parallel",
    "outputId": "638459ca-8964-4c0b-a73c-5198b9011340"
   },
   "outputs": [
    {
     "name": "stdout",
     "output_type": "stream",
     "text": [
      "args = ()\n",
      "len = 0\n"
     ]
    }
   ],
   "source": [
    "print_args()"
   ]
  },
  {
   "cell_type": "code",
   "execution_count": 76,
   "id": "particular-philippines",
   "metadata": {
    "id": "particular-philippines"
   },
   "outputs": [],
   "source": [
    "def add(*nums):\n",
    "  total = 0\n",
    "  for i in nums:\n",
    "    total += i\n",
    "  return total"
   ]
  },
  {
   "cell_type": "code",
   "execution_count": 77,
   "id": "conservative-enlargement",
   "metadata": {
    "colab": {
     "base_uri": "https://localhost:8080/"
    },
    "executionInfo": {
     "elapsed": 52,
     "status": "ok",
     "timestamp": 1650628390908,
     "user": {
      "displayName": "wien hong",
      "userId": "11131435925814580522"
     },
     "user_tz": -480
    },
    "id": "conservative-enlargement",
    "outputId": "79cddd01-c1a5-4e8f-fb07-55b784355339"
   },
   "outputs": [
    {
     "data": {
      "text/plain": [
       "30"
      ]
     },
     "execution_count": 77,
     "metadata": {},
     "output_type": "execute_result"
    }
   ],
   "source": [
    "add(5, 12, 13)"
   ]
  },
  {
   "cell_type": "code",
   "execution_count": 78,
   "id": "comprehensive-makeup",
   "metadata": {
    "id": "comprehensive-makeup"
   },
   "outputs": [],
   "source": [
    "def join_str(*strs):\n",
    "  return ''.join(strs)"
   ]
  },
  {
   "cell_type": "code",
   "execution_count": 79,
   "id": "metallic-explorer",
   "metadata": {
    "colab": {
     "base_uri": "https://localhost:8080/",
     "height": 35
    },
    "executionInfo": {
     "elapsed": 70,
     "status": "ok",
     "timestamp": 1650628493856,
     "user": {
      "displayName": "wien hong",
      "userId": "11131435925814580522"
     },
     "user_tz": -480
    },
    "id": "metallic-explorer",
    "outputId": "405b376f-f55f-4e7f-e9f5-6eacce0db715"
   },
   "outputs": [
    {
     "data": {
      "text/plain": [
       "'Hello_Kitty'"
      ]
     },
     "execution_count": 79,
     "metadata": {},
     "output_type": "execute_result"
    }
   ],
   "source": [
    "join_str('Hello', '_Kitty')"
   ]
  },
  {
   "cell_type": "code",
   "execution_count": 80,
   "id": "indirect-glory",
   "metadata": {
    "colab": {
     "base_uri": "https://localhost:8080/",
     "height": 35
    },
    "executionInfo": {
     "elapsed": 70,
     "status": "ok",
     "timestamp": 1650628493859,
     "user": {
      "displayName": "wien hong",
      "userId": "11131435925814580522"
     },
     "user_tz": -480
    },
    "id": "indirect-glory",
    "outputId": "ea292a46-ac4a-4294-a406-3ab407a92d52"
   },
   "outputs": [
    {
     "data": {
      "text/plain": [
       "'PythonDataScientist'"
      ]
     },
     "execution_count": 80,
     "metadata": {},
     "output_type": "execute_result"
    }
   ],
   "source": [
    "join_str('Python', 'Data', 'Scientist')"
   ]
  },
  {
   "cell_type": "code",
   "execution_count": 81,
   "id": "frequent-martial",
   "metadata": {
    "id": "frequent-martial"
   },
   "outputs": [],
   "source": [
    "def add_n(n, *nums):\n",
    "  lst = []\n",
    "  for num in nums:\n",
    "    lst.append(n + num)\n",
    "  return lst"
   ]
  },
  {
   "cell_type": "code",
   "execution_count": 82,
   "id": "expanded-steal",
   "metadata": {
    "colab": {
     "base_uri": "https://localhost:8080/"
    },
    "executionInfo": {
     "elapsed": 72,
     "status": "ok",
     "timestamp": 1650628493862,
     "user": {
      "displayName": "wien hong",
      "userId": "11131435925814580522"
     },
     "user_tz": -480
    },
    "id": "expanded-steal",
    "outputId": "e86e5652-b7f0-484b-87ce-8e04925fa835"
   },
   "outputs": [
    {
     "data": {
      "text/plain": [
       "[104, 103, 102]"
      ]
     },
     "execution_count": 82,
     "metadata": {},
     "output_type": "execute_result"
    }
   ],
   "source": [
    "add_n(100, 4, 3, 2)"
   ]
  },
  {
   "cell_type": "markdown",
   "id": "discrete-disorder",
   "metadata": {
    "id": "discrete-disorder"
   },
   "source": [
    "#### 6.3.4 以字典當成指名參數"
   ]
  },
  {
   "cell_type": "code",
   "execution_count": 83,
   "id": "derived-galaxy",
   "metadata": {
    "id": "derived-galaxy"
   },
   "outputs": [],
   "source": [
    "def print_ch6(char, num):\n",
    "  for i in range(num):\n",
    "    print(char, end='')"
   ]
  },
  {
   "cell_type": "code",
   "execution_count": 84,
   "id": "educated-rabbit",
   "metadata": {
    "id": "educated-rabbit"
   },
   "outputs": [],
   "source": [
    "d = {'char': '@', 'num': 8}"
   ]
  },
  {
   "cell_type": "code",
   "execution_count": 85,
   "id": "northern-relevance",
   "metadata": {
    "colab": {
     "base_uri": "https://localhost:8080/"
    },
    "executionInfo": {
     "elapsed": 67,
     "status": "ok",
     "timestamp": 1650628493864,
     "user": {
      "displayName": "wien hong",
      "userId": "11131435925814580522"
     },
     "user_tz": -480
    },
    "id": "northern-relevance",
    "outputId": "00218881-fdda-4d03-bd0e-4cc70b258a6c"
   },
   "outputs": [
    {
     "name": "stdout",
     "output_type": "stream",
     "text": [
      "@@@@@@@@"
     ]
    }
   ],
   "source": [
    "print_ch6(**d)"
   ]
  },
  {
   "cell_type": "code",
   "execution_count": 86,
   "id": "complex-packaging",
   "metadata": {
    "id": "complex-packaging"
   },
   "outputs": [],
   "source": [
    "d2 = {'num': 20, 'char': '+'}"
   ]
  },
  {
   "cell_type": "code",
   "execution_count": 87,
   "id": "alternate-contact",
   "metadata": {
    "colab": {
     "base_uri": "https://localhost:8080/"
    },
    "executionInfo": {
     "elapsed": 63,
     "status": "ok",
     "timestamp": 1650628493866,
     "user": {
      "displayName": "wien hong",
      "userId": "11131435925814580522"
     },
     "user_tz": -480
    },
    "id": "alternate-contact",
    "outputId": "eb0d55a2-1b30-44b0-f442-771cb1d9e7a6"
   },
   "outputs": [
    {
     "name": "stdout",
     "output_type": "stream",
     "text": [
      "++++++++++++++++++++"
     ]
    }
   ],
   "source": [
    "print_ch6(**d2)"
   ]
  },
  {
   "cell_type": "code",
   "execution_count": 88,
   "id": "charged-packing",
   "metadata": {
    "id": "charged-packing"
   },
   "outputs": [],
   "source": [
    "d3 = [{\n",
    "    'num': 20,\n",
    "    'char': '#'\n",
    "}, {\n",
    "    'num': 12,\n",
    "    'char': '^'\n",
    "}, {\n",
    "    'num': 25,\n",
    "    'char': '*'\n",
    "}]"
   ]
  },
  {
   "cell_type": "code",
   "execution_count": 89,
   "id": "naughty-absolute",
   "metadata": {
    "colab": {
     "base_uri": "https://localhost:8080/"
    },
    "executionInfo": {
     "elapsed": 59,
     "status": "ok",
     "timestamp": 1650628493867,
     "user": {
      "displayName": "wien hong",
      "userId": "11131435925814580522"
     },
     "user_tz": -480
    },
    "id": "naughty-absolute",
    "outputId": "a435787d-6d60-415a-c031-5c6c27185623"
   },
   "outputs": [
    {
     "name": "stdout",
     "output_type": "stream",
     "text": [
      "####################\n",
      "^^^^^^^^^^^^\n",
      "*************************\n"
     ]
    }
   ],
   "source": [
    "for d in d3:\n",
    "  print_ch6(**d)\n",
    "  print()"
   ]
  },
  {
   "cell_type": "markdown",
   "id": "soviet-fight",
   "metadata": {
    "id": "soviet-fight"
   },
   "source": [
    "### 6.4 全域變數與區域變數"
   ]
  },
  {
   "cell_type": "code",
   "execution_count": 90,
   "id": "BbfCMm-aNmWC",
   "metadata": {
    "id": "BbfCMm-aNmWC"
   },
   "outputs": [],
   "source": [
    "x = 12  # 全域變數\n",
    "y = 6  # 全域變數"
   ]
  },
  {
   "cell_type": "code",
   "execution_count": 91,
   "id": "mediterranean-bicycle",
   "metadata": {
    "id": "mediterranean-bicycle"
   },
   "outputs": [],
   "source": [
    "def fun():\n",
    "  y = 0  # 區域變數\n",
    "  print('inside fun(), x=', x)  # x is a global variable\n",
    "  print('inside fun(), y=', y)  # y is a local variable"
   ]
  },
  {
   "cell_type": "code",
   "execution_count": 92,
   "id": "wooden-welding",
   "metadata": {
    "colab": {
     "base_uri": "https://localhost:8080/"
    },
    "executionInfo": {
     "elapsed": 55,
     "status": "ok",
     "timestamp": 1650628493869,
     "user": {
      "displayName": "wien hong",
      "userId": "11131435925814580522"
     },
     "user_tz": -480
    },
    "id": "wooden-welding",
    "outputId": "0d7b56c0-5201-43fe-e1a9-4a1bfc072626"
   },
   "outputs": [
    {
     "name": "stdout",
     "output_type": "stream",
     "text": [
      "inside fun(), x= 12\n",
      "inside fun(), y= 0\n"
     ]
    }
   ],
   "source": [
    "fun()"
   ]
  },
  {
   "cell_type": "code",
   "execution_count": 93,
   "id": "digital-andrews",
   "metadata": {
    "colab": {
     "base_uri": "https://localhost:8080/"
    },
    "executionInfo": {
     "elapsed": 52,
     "status": "ok",
     "timestamp": 1650628493871,
     "user": {
      "displayName": "wien hong",
      "userId": "11131435925814580522"
     },
     "user_tz": -480
    },
    "id": "digital-andrews",
    "outputId": "832bb997-5284-4c84-ea04-52cf3c618d3b"
   },
   "outputs": [
    {
     "data": {
      "text/plain": [
       "12"
      ]
     },
     "execution_count": 93,
     "metadata": {},
     "output_type": "execute_result"
    }
   ],
   "source": [
    "x"
   ]
  },
  {
   "cell_type": "code",
   "execution_count": 94,
   "id": "centered-trunk",
   "metadata": {
    "colab": {
     "base_uri": "https://localhost:8080/"
    },
    "executionInfo": {
     "elapsed": 48,
     "status": "ok",
     "timestamp": 1650628493872,
     "user": {
      "displayName": "wien hong",
      "userId": "11131435925814580522"
     },
     "user_tz": -480
    },
    "id": "centered-trunk",
    "outputId": "78c14ca1-4800-454c-e3bb-cf39f6368e44"
   },
   "outputs": [
    {
     "data": {
      "text/plain": [
       "6"
      ]
     },
     "execution_count": 94,
     "metadata": {},
     "output_type": "execute_result"
    }
   ],
   "source": [
    "y"
   ]
  },
  {
   "cell_type": "code",
   "execution_count": 95,
   "id": "composed-agent",
   "metadata": {
    "id": "composed-agent"
   },
   "outputs": [],
   "source": [
    "def fun2():\n",
    "  x = x + 1\n",
    "  print('inside fun(), x=', x)"
   ]
  },
  {
   "cell_type": "code",
   "execution_count": 96,
   "id": "civilian-hurricane",
   "metadata": {
    "id": "civilian-hurricane"
   },
   "outputs": [],
   "source": [
    "# fun2()"
   ]
  },
  {
   "cell_type": "code",
   "execution_count": 97,
   "id": "going-harmony",
   "metadata": {
    "id": "going-harmony"
   },
   "outputs": [],
   "source": [
    "def fun2():\n",
    "  global x\n",
    "  x = x + 1\n",
    "  print('inside fun(), x=', x)"
   ]
  },
  {
   "cell_type": "code",
   "execution_count": 98,
   "id": "false-summer",
   "metadata": {
    "colab": {
     "base_uri": "https://localhost:8080/"
    },
    "executionInfo": {
     "elapsed": 53,
     "status": "ok",
     "timestamp": 1650628493883,
     "user": {
      "displayName": "wien hong",
      "userId": "11131435925814580522"
     },
     "user_tz": -480
    },
    "id": "false-summer",
    "outputId": "bbaa9a50-fc3c-4183-be52-2dcd956c4d1f"
   },
   "outputs": [
    {
     "name": "stdout",
     "output_type": "stream",
     "text": [
      "inside fun(), x= 13\n"
     ]
    }
   ],
   "source": [
    "fun2()"
   ]
  },
  {
   "cell_type": "code",
   "execution_count": 99,
   "id": "local-civilization",
   "metadata": {
    "colab": {
     "base_uri": "https://localhost:8080/"
    },
    "executionInfo": {
     "elapsed": 50,
     "status": "ok",
     "timestamp": 1650628493885,
     "user": {
      "displayName": "wien hong",
      "userId": "11131435925814580522"
     },
     "user_tz": -480
    },
    "id": "local-civilization",
    "outputId": "b8807345-a1c9-47aa-8c3c-e9af4f1e4b4d"
   },
   "outputs": [
    {
     "data": {
      "text/plain": [
       "13"
      ]
     },
     "execution_count": 99,
     "metadata": {},
     "output_type": "execute_result"
    }
   ],
   "source": [
    "x"
   ]
  },
  {
   "cell_type": "markdown",
   "id": "decimal-visibility",
   "metadata": {
    "id": "decimal-visibility"
   },
   "source": [
    "### 6.5 遞迴函數"
   ]
  },
  {
   "cell_type": "code",
   "execution_count": 100,
   "id": "concerned-increase",
   "metadata": {
    "id": "concerned-increase"
   },
   "outputs": [],
   "source": [
    "def fact(n):\n",
    "  if n > 1:\n",
    "    return n * fact(n - 1)\n",
    "  else:\n",
    "    return 1"
   ]
  },
  {
   "cell_type": "code",
   "execution_count": 101,
   "id": "aware-swaziland",
   "metadata": {
    "colab": {
     "base_uri": "https://localhost:8080/"
    },
    "executionInfo": {
     "elapsed": 144,
     "status": "ok",
     "timestamp": 1650628494362,
     "user": {
      "displayName": "wien hong",
      "userId": "11131435925814580522"
     },
     "user_tz": -480
    },
    "id": "aware-swaziland",
    "outputId": "c004066c-247d-4d6d-a13c-cc45c498d601"
   },
   "outputs": [
    {
     "data": {
      "text/plain": [
       "24"
      ]
     },
     "execution_count": 101,
     "metadata": {},
     "output_type": "execute_result"
    }
   ],
   "source": [
    "fact(4)"
   ]
  },
  {
   "cell_type": "markdown",
   "id": "x9c9z_ekv2Xp",
   "metadata": {
    "id": "x9c9z_ekv2Xp"
   },
   "source": [
    "<font color=#DFFF00>☘ </font> [上面範例在 Pythontutor.com 裡執行的過程](https://pythontutor.com/live.html#code=def%20fact%28n%29%3A%0A%20%20%20%20if%20n%3E1%3A%0A%20%20%20%20%20%20%20%20return%20n*fact%28n-1%29%0A%20%20%20%20else%3A%0A%20%20%20%20%20%20%20%20return%201%0A%20%20%20%20%20%20%20%20%0Afact%284%29&cumulative=false&curInstr=18&heapPrimitives=nevernest&mode=display&origin=opt-live.js&py=3&rawInputLstJSON=%5B%5D&textReferences=false)"
   ]
  },
  {
   "cell_type": "code",
   "execution_count": 102,
   "id": "informational-novelty",
   "metadata": {
    "colab": {
     "base_uri": "https://localhost:8080/"
    },
    "executionInfo": {
     "elapsed": 143,
     "status": "ok",
     "timestamp": 1650628494363,
     "user": {
      "displayName": "wien hong",
      "userId": "11131435925814580522"
     },
     "user_tz": -480
    },
    "id": "informational-novelty",
    "outputId": "bd2a7090-e85a-41de-96d5-8e8cd6eac5ed"
   },
   "outputs": [
    {
     "data": {
      "text/plain": [
       "265252859812191058636308480000000"
      ]
     },
     "execution_count": 102,
     "metadata": {},
     "output_type": "execute_result"
    }
   ],
   "source": [
    "fact(30)"
   ]
  },
  {
   "cell_type": "code",
   "execution_count": 103,
   "id": "hollywood-america",
   "metadata": {
    "id": "hollywood-america"
   },
   "outputs": [],
   "source": [
    "def print_satr(n):\n",
    "  if n == 0:\n",
    "    return\n",
    "  else:\n",
    "    print(n * '*')\n",
    "    print_satr(n - 1)"
   ]
  },
  {
   "cell_type": "code",
   "execution_count": 104,
   "id": "proud-essence",
   "metadata": {
    "colab": {
     "base_uri": "https://localhost:8080/"
    },
    "executionInfo": {
     "elapsed": 130,
     "status": "ok",
     "timestamp": 1650628494363,
     "user": {
      "displayName": "wien hong",
      "userId": "11131435925814580522"
     },
     "user_tz": -480
    },
    "id": "proud-essence",
    "outputId": "fdcc20e4-51eb-4342-ebb8-f36edb330634"
   },
   "outputs": [
    {
     "name": "stdout",
     "output_type": "stream",
     "text": [
      "**********\n",
      "*********\n",
      "********\n",
      "*******\n",
      "******\n",
      "*****\n",
      "****\n",
      "***\n",
      "**\n",
      "*\n"
     ]
    }
   ],
   "source": [
    "print_satr(10)"
   ]
  },
  {
   "cell_type": "markdown",
   "id": "rational-reminder",
   "metadata": {
    "id": "rational-reminder"
   },
   "source": [
    "### 6.6 lambda 表達式"
   ]
  },
  {
   "cell_type": "code",
   "execution_count": 105,
   "id": "tutorial-friend",
   "metadata": {
    "id": "tutorial-friend"
   },
   "outputs": [],
   "source": [
    "def fun(x):\n",
    "  return 2 * x"
   ]
  },
  {
   "cell_type": "code",
   "execution_count": 106,
   "id": "respective-logging",
   "metadata": {
    "colab": {
     "base_uri": "https://localhost:8080/"
    },
    "executionInfo": {
     "elapsed": 123,
     "status": "ok",
     "timestamp": 1650628494364,
     "user": {
      "displayName": "wien hong",
      "userId": "11131435925814580522"
     },
     "user_tz": -480
    },
    "id": "respective-logging",
    "outputId": "b4ba88d0-9f39-47e5-a341-0298b9bfd782"
   },
   "outputs": [
    {
     "data": {
      "text/plain": [
       "24"
      ]
     },
     "execution_count": 106,
     "metadata": {},
     "output_type": "execute_result"
    }
   ],
   "source": [
    "fun(12)"
   ]
  },
  {
   "cell_type": "code",
   "execution_count": 107,
   "id": "electoral-campus",
   "metadata": {
    "id": "electoral-campus"
   },
   "outputs": [],
   "source": [
    "fun2 = lambda x: 2 * x"
   ]
  },
  {
   "cell_type": "code",
   "execution_count": 108,
   "id": "integral-forge",
   "metadata": {
    "colab": {
     "base_uri": "https://localhost:8080/"
    },
    "executionInfo": {
     "elapsed": 118,
     "status": "ok",
     "timestamp": 1650628494365,
     "user": {
      "displayName": "wien hong",
      "userId": "11131435925814580522"
     },
     "user_tz": -480
    },
    "id": "integral-forge",
    "outputId": "1ce39522-55c8-4408-a397-ea9e556dad4e"
   },
   "outputs": [
    {
     "data": {
      "text/plain": [
       "4"
      ]
     },
     "execution_count": 108,
     "metadata": {},
     "output_type": "execute_result"
    }
   ],
   "source": [
    "fun2(2)"
   ]
  },
  {
   "cell_type": "code",
   "execution_count": 109,
   "id": "handmade-folder",
   "metadata": {
    "id": "handmade-folder"
   },
   "outputs": [],
   "source": [
    "def chop(x):\n",
    "  if x < 0.01:\n",
    "    return 0\n",
    "  else:\n",
    "    return x"
   ]
  },
  {
   "cell_type": "code",
   "execution_count": 110,
   "id": "deadly-question",
   "metadata": {
    "colab": {
     "base_uri": "https://localhost:8080/"
    },
    "executionInfo": {
     "elapsed": 113,
     "status": "ok",
     "timestamp": 1650628494365,
     "user": {
      "displayName": "wien hong",
      "userId": "11131435925814580522"
     },
     "user_tz": -480
    },
    "id": "deadly-question",
    "outputId": "41358050-a169-4eb6-946c-010e93bde604"
   },
   "outputs": [
    {
     "data": {
      "text/plain": [
       "0.34"
      ]
     },
     "execution_count": 110,
     "metadata": {},
     "output_type": "execute_result"
    }
   ],
   "source": [
    "chop(0.34)"
   ]
  },
  {
   "cell_type": "code",
   "execution_count": 111,
   "id": "familiar-tower",
   "metadata": {
    "colab": {
     "base_uri": "https://localhost:8080/"
    },
    "executionInfo": {
     "elapsed": 109,
     "status": "ok",
     "timestamp": 1650628494365,
     "user": {
      "displayName": "wien hong",
      "userId": "11131435925814580522"
     },
     "user_tz": -480
    },
    "id": "familiar-tower",
    "outputId": "345d095c-5c71-4e11-827a-8148ea2da46d"
   },
   "outputs": [
    {
     "data": {
      "text/plain": [
       "0"
      ]
     },
     "execution_count": 111,
     "metadata": {},
     "output_type": "execute_result"
    }
   ],
   "source": [
    "chop(0.0034)"
   ]
  },
  {
   "cell_type": "code",
   "execution_count": 112,
   "id": "european-nelson",
   "metadata": {
    "id": "european-nelson"
   },
   "outputs": [],
   "source": [
    "chop2 = lambda x: 0 if x < 0.01 else x"
   ]
  },
  {
   "cell_type": "code",
   "execution_count": 113,
   "id": "consecutive-remove",
   "metadata": {
    "colab": {
     "base_uri": "https://localhost:8080/"
    },
    "executionInfo": {
     "elapsed": 95,
     "status": "ok",
     "timestamp": 1650628494366,
     "user": {
      "displayName": "wien hong",
      "userId": "11131435925814580522"
     },
     "user_tz": -480
    },
    "id": "consecutive-remove",
    "outputId": "c946b0fc-1aa5-49af-ee2c-9650ca606c20"
   },
   "outputs": [
    {
     "data": {
      "text/plain": [
       "0.3"
      ]
     },
     "execution_count": 113,
     "metadata": {},
     "output_type": "execute_result"
    }
   ],
   "source": [
    "chop2(0.3)"
   ]
  },
  {
   "cell_type": "code",
   "execution_count": 114,
   "id": "disturbed-stocks",
   "metadata": {
    "colab": {
     "base_uri": "https://localhost:8080/"
    },
    "executionInfo": {
     "elapsed": 90,
     "status": "ok",
     "timestamp": 1650628494366,
     "user": {
      "displayName": "wien hong",
      "userId": "11131435925814580522"
     },
     "user_tz": -480
    },
    "id": "disturbed-stocks",
    "outputId": "9e45dd75-a1b1-41d6-8ad2-b09bdc8ce08e"
   },
   "outputs": [
    {
     "data": {
      "text/plain": [
       "0"
      ]
     },
     "execution_count": 114,
     "metadata": {},
     "output_type": "execute_result"
    }
   ],
   "source": [
    "chop2(0.0052)"
   ]
  },
  {
   "cell_type": "code",
   "execution_count": 115,
   "id": "exciting-tuesday",
   "metadata": {
    "id": "exciting-tuesday"
   },
   "outputs": [],
   "source": [
    "larger = lambda x, y: x if x > y else y"
   ]
  },
  {
   "cell_type": "code",
   "execution_count": 116,
   "id": "composite-bargain",
   "metadata": {
    "colab": {
     "base_uri": "https://localhost:8080/"
    },
    "executionInfo": {
     "elapsed": 85,
     "status": "ok",
     "timestamp": 1650628494367,
     "user": {
      "displayName": "wien hong",
      "userId": "11131435925814580522"
     },
     "user_tz": -480
    },
    "id": "composite-bargain",
    "outputId": "6ecfa9fe-c096-456c-a2c9-07fed8490eb4"
   },
   "outputs": [
    {
     "data": {
      "text/plain": [
       "6"
      ]
     },
     "execution_count": 116,
     "metadata": {},
     "output_type": "execute_result"
    }
   ],
   "source": [
    "larger(5, 6)"
   ]
  },
  {
   "cell_type": "code",
   "execution_count": 117,
   "id": "brave-public",
   "metadata": {
    "id": "brave-public"
   },
   "outputs": [],
   "source": [
    "names = ['Tom', 'Jerry', 'Jeanne', 'Jean']"
   ]
  },
  {
   "cell_type": "code",
   "execution_count": 118,
   "id": "computational-search",
   "metadata": {
    "colab": {
     "base_uri": "https://localhost:8080/"
    },
    "executionInfo": {
     "elapsed": 81,
     "status": "ok",
     "timestamp": 1650628494368,
     "user": {
      "displayName": "wien hong",
      "userId": "11131435925814580522"
     },
     "user_tz": -480
    },
    "id": "computational-search",
    "outputId": "4d8883fb-2f93-443d-857d-81d6ad458b6e"
   },
   "outputs": [
    {
     "data": {
      "text/plain": [
       "['Jean', 'Jeanne', 'Jerry', 'Tom']"
      ]
     },
     "execution_count": 118,
     "metadata": {},
     "output_type": "execute_result"
    }
   ],
   "source": [
    "sorted(names)"
   ]
  },
  {
   "cell_type": "code",
   "execution_count": 119,
   "id": "banner-diesel",
   "metadata": {
    "id": "banner-diesel"
   },
   "outputs": [],
   "source": [
    "len_ = lambda x: len(x)"
   ]
  },
  {
   "cell_type": "code",
   "execution_count": 120,
   "id": "fewer-precipitation",
   "metadata": {
    "colab": {
     "base_uri": "https://localhost:8080/"
    },
    "executionInfo": {
     "elapsed": 76,
     "status": "ok",
     "timestamp": 1650628494368,
     "user": {
      "displayName": "wien hong",
      "userId": "11131435925814580522"
     },
     "user_tz": -480
    },
    "id": "fewer-precipitation",
    "outputId": "b9080d42-bbd2-4431-abf7-67a5eae3a82a"
   },
   "outputs": [
    {
     "data": {
      "text/plain": [
       "[3, 5, 6, 4]"
      ]
     },
     "execution_count": 120,
     "metadata": {},
     "output_type": "execute_result"
    }
   ],
   "source": [
    "[len_(e) for e in names]"
   ]
  },
  {
   "cell_type": "code",
   "execution_count": 121,
   "id": "particular-birthday",
   "metadata": {
    "colab": {
     "base_uri": "https://localhost:8080/"
    },
    "executionInfo": {
     "elapsed": 73,
     "status": "ok",
     "timestamp": 1650628494369,
     "user": {
      "displayName": "wien hong",
      "userId": "11131435925814580522"
     },
     "user_tz": -480
    },
    "id": "particular-birthday",
    "outputId": "4b16ef9d-355b-4a9f-8e0a-4313bfa21e91"
   },
   "outputs": [
    {
     "data": {
      "text/plain": [
       "['Tom', 'Jean', 'Jerry', 'Jeanne']"
      ]
     },
     "execution_count": 121,
     "metadata": {},
     "output_type": "execute_result"
    }
   ],
   "source": [
    "sorted(names, key=len_)"
   ]
  },
  {
   "cell_type": "code",
   "execution_count": 122,
   "id": "imported-swaziland",
   "metadata": {
    "colab": {
     "base_uri": "https://localhost:8080/"
    },
    "executionInfo": {
     "elapsed": 68,
     "status": "ok",
     "timestamp": 1650628494369,
     "user": {
      "displayName": "wien hong",
      "userId": "11131435925814580522"
     },
     "user_tz": -480
    },
    "id": "imported-swaziland",
    "outputId": "44e74aef-624d-4cc3-b954-005d56b4dd91"
   },
   "outputs": [
    {
     "data": {
      "text/plain": [
       "['Tom', 'Jean', 'Jerry', 'Jeanne']"
      ]
     },
     "execution_count": 122,
     "metadata": {},
     "output_type": "execute_result"
    }
   ],
   "source": [
    "sorted(names, key=lambda x: len(x))"
   ]
  },
  {
   "cell_type": "code",
   "execution_count": 123,
   "id": "aboriginal-diving",
   "metadata": {
    "colab": {
     "base_uri": "https://localhost:8080/"
    },
    "executionInfo": {
     "elapsed": 63,
     "status": "ok",
     "timestamp": 1650628494369,
     "user": {
      "displayName": "wien hong",
      "userId": "11131435925814580522"
     },
     "user_tz": -480
    },
    "id": "aboriginal-diving",
    "outputId": "433e0161-2085-4756-f777-7e32b845bb91"
   },
   "outputs": [
    {
     "data": {
      "text/plain": [
       "['Tom', 'Jean', 'Jerry', 'Jeanne']"
      ]
     },
     "execution_count": 123,
     "metadata": {},
     "output_type": "execute_result"
    }
   ],
   "source": [
    "sorted(names, key=len)"
   ]
  },
  {
   "cell_type": "code",
   "execution_count": 124,
   "id": "deadly-eight",
   "metadata": {
    "id": "deadly-eight"
   },
   "outputs": [],
   "source": [
    "last = lambda x: x[-1]"
   ]
  },
  {
   "cell_type": "code",
   "execution_count": 125,
   "id": "aboriginal-halifax",
   "metadata": {
    "colab": {
     "base_uri": "https://localhost:8080/"
    },
    "executionInfo": {
     "elapsed": 57,
     "status": "ok",
     "timestamp": 1650628494370,
     "user": {
      "displayName": "wien hong",
      "userId": "11131435925814580522"
     },
     "user_tz": -480
    },
    "id": "aboriginal-halifax",
    "outputId": "887db28e-01dc-4b53-c205-d35d4191b629"
   },
   "outputs": [
    {
     "data": {
      "text/plain": [
       "['m', 'y', 'e', 'n']"
      ]
     },
     "execution_count": 125,
     "metadata": {},
     "output_type": "execute_result"
    }
   ],
   "source": [
    "[last(name) for name in names]"
   ]
  },
  {
   "cell_type": "code",
   "execution_count": 126,
   "id": "independent-criticism",
   "metadata": {
    "colab": {
     "base_uri": "https://localhost:8080/"
    },
    "executionInfo": {
     "elapsed": 52,
     "status": "ok",
     "timestamp": 1650628494370,
     "user": {
      "displayName": "wien hong",
      "userId": "11131435925814580522"
     },
     "user_tz": -480
    },
    "id": "independent-criticism",
    "outputId": "2b9f634a-4381-4f8b-fc03-1616420834fb"
   },
   "outputs": [
    {
     "data": {
      "text/plain": [
       "['Jeanne', 'Tom', 'Jean', 'Jerry']"
      ]
     },
     "execution_count": 126,
     "metadata": {},
     "output_type": "execute_result"
    }
   ],
   "source": [
    "sorted(names, key=last)"
   ]
  },
  {
   "cell_type": "code",
   "execution_count": 127,
   "id": "sufficient-manner",
   "metadata": {
    "id": "sufficient-manner"
   },
   "outputs": [],
   "source": [
    "lst = [('Juice', 60), ('Cola', 40), ('Tea', 30)]"
   ]
  },
  {
   "cell_type": "code",
   "execution_count": 128,
   "id": "monthly-hybrid",
   "metadata": {
    "colab": {
     "base_uri": "https://localhost:8080/"
    },
    "executionInfo": {
     "elapsed": 48,
     "status": "ok",
     "timestamp": 1650628494371,
     "user": {
      "displayName": "wien hong",
      "userId": "11131435925814580522"
     },
     "user_tz": -480
    },
    "id": "monthly-hybrid",
    "outputId": "b60716da-fb7a-42b1-baf1-27f0533ad8cf"
   },
   "outputs": [
    {
     "data": {
      "text/plain": [
       "[('Cola', 40), ('Juice', 60), ('Tea', 30)]"
      ]
     },
     "execution_count": 128,
     "metadata": {},
     "output_type": "execute_result"
    }
   ],
   "source": [
    "sorted(lst)"
   ]
  },
  {
   "cell_type": "code",
   "execution_count": 129,
   "id": "cheap-broadway",
   "metadata": {
    "colab": {
     "base_uri": "https://localhost:8080/"
    },
    "executionInfo": {
     "elapsed": 44,
     "status": "ok",
     "timestamp": 1650628494371,
     "user": {
      "displayName": "wien hong",
      "userId": "11131435925814580522"
     },
     "user_tz": -480
    },
    "id": "cheap-broadway",
    "outputId": "762548e3-1bab-49f3-a9e6-b8a36185694b"
   },
   "outputs": [
    {
     "data": {
      "text/plain": [
       "[('Tea', 30), ('Cola', 40), ('Juice', 60)]"
      ]
     },
     "execution_count": 129,
     "metadata": {},
     "output_type": "execute_result"
    }
   ],
   "source": [
    "sorted(lst, key=lambda x: x[1])"
   ]
  },
  {
   "cell_type": "markdown",
   "id": "ranging-matter",
   "metadata": {
    "id": "ranging-matter"
   },
   "source": [
    "### 6.7 函數的進階應用"
   ]
  },
  {
   "cell_type": "markdown",
   "id": "invalid-bermuda",
   "metadata": {
    "id": "invalid-bermuda"
   },
   "source": [
    "#### 6.7.1 參數的解包"
   ]
  },
  {
   "cell_type": "code",
   "execution_count": 130,
   "id": "global-degree",
   "metadata": {
    "colab": {
     "base_uri": "https://localhost:8080/"
    },
    "executionInfo": {
     "elapsed": 39,
     "status": "ok",
     "timestamp": 1650628494371,
     "user": {
      "displayName": "wien hong",
      "userId": "11131435925814580522"
     },
     "user_tz": -480
    },
    "id": "global-degree",
    "outputId": "a9613b9a-44d6-45a8-f2dd-f3662a3b124b"
   },
   "outputs": [
    {
     "name": "stdout",
     "output_type": "stream",
     "text": [
      "[5, 4, 3]\n"
     ]
    }
   ],
   "source": [
    "print([5, 4, 3])"
   ]
  },
  {
   "cell_type": "code",
   "execution_count": 131,
   "id": "hearing-neighborhood",
   "metadata": {
    "colab": {
     "base_uri": "https://localhost:8080/"
    },
    "executionInfo": {
     "elapsed": 36,
     "status": "ok",
     "timestamp": 1650628494372,
     "user": {
      "displayName": "wien hong",
      "userId": "11131435925814580522"
     },
     "user_tz": -480
    },
    "id": "hearing-neighborhood",
    "outputId": "d1d9aebe-2da9-4031-8229-b1df9f34fad5"
   },
   "outputs": [
    {
     "name": "stdout",
     "output_type": "stream",
     "text": [
      "5 4 3\n"
     ]
    }
   ],
   "source": [
    "print(*[5, 4, 3])"
   ]
  },
  {
   "cell_type": "code",
   "execution_count": 132,
   "id": "previous-concentration",
   "metadata": {
    "id": "previous-concentration"
   },
   "outputs": [],
   "source": [
    "add = lambda a, b: a + b"
   ]
  },
  {
   "cell_type": "code",
   "execution_count": 133,
   "id": "falling-vulnerability",
   "metadata": {
    "colab": {
     "base_uri": "https://localhost:8080/"
    },
    "executionInfo": {
     "elapsed": 31,
     "status": "ok",
     "timestamp": 1650628494372,
     "user": {
      "displayName": "wien hong",
      "userId": "11131435925814580522"
     },
     "user_tz": -480
    },
    "id": "falling-vulnerability",
    "outputId": "500d4167-de96-4773-9c86-58bf7beb19b8"
   },
   "outputs": [
    {
     "data": {
      "text/plain": [
       "13"
      ]
     },
     "execution_count": 133,
     "metadata": {},
     "output_type": "execute_result"
    }
   ],
   "source": [
    "add(5, 8)"
   ]
  },
  {
   "cell_type": "code",
   "execution_count": 134,
   "id": "grateful-chain",
   "metadata": {
    "id": "grateful-chain"
   },
   "outputs": [],
   "source": [
    "# add([5,8])"
   ]
  },
  {
   "cell_type": "code",
   "execution_count": 135,
   "id": "growing-single",
   "metadata": {
    "colab": {
     "base_uri": "https://localhost:8080/"
    },
    "executionInfo": {
     "elapsed": 26,
     "status": "ok",
     "timestamp": 1650628494373,
     "user": {
      "displayName": "wien hong",
      "userId": "11131435925814580522"
     },
     "user_tz": -480
    },
    "id": "growing-single",
    "outputId": "b9820025-18f1-45aa-ec2d-0e12653826dd"
   },
   "outputs": [
    {
     "data": {
      "text/plain": [
       "13"
      ]
     },
     "execution_count": 135,
     "metadata": {},
     "output_type": "execute_result"
    }
   ],
   "source": [
    "add(*[5, 8])"
   ]
  },
  {
   "cell_type": "code",
   "execution_count": 136,
   "id": "liberal-iceland",
   "metadata": {
    "id": "liberal-iceland"
   },
   "outputs": [],
   "source": [
    "lst = [6, 3]"
   ]
  },
  {
   "cell_type": "code",
   "execution_count": 137,
   "id": "sharp-facial",
   "metadata": {
    "colab": {
     "base_uri": "https://localhost:8080/"
    },
    "executionInfo": {
     "elapsed": 591,
     "status": "ok",
     "timestamp": 1650628494943,
     "user": {
      "displayName": "wien hong",
      "userId": "11131435925814580522"
     },
     "user_tz": -480
    },
    "id": "sharp-facial",
    "outputId": "560fd433-61c1-43af-ea53-f12655fa7be6"
   },
   "outputs": [
    {
     "data": {
      "text/plain": [
       "9"
      ]
     },
     "execution_count": 137,
     "metadata": {},
     "output_type": "execute_result"
    }
   ],
   "source": [
    "add(lst[0], lst[1])"
   ]
  },
  {
   "cell_type": "code",
   "execution_count": 138,
   "id": "controlled-genome",
   "metadata": {
    "colab": {
     "base_uri": "https://localhost:8080/"
    },
    "executionInfo": {
     "elapsed": 155,
     "status": "ok",
     "timestamp": 1650628494944,
     "user": {
      "displayName": "wien hong",
      "userId": "11131435925814580522"
     },
     "user_tz": -480
    },
    "id": "controlled-genome",
    "outputId": "708a6910-ffa3-48eb-f2e5-6b9a5c161ee0"
   },
   "outputs": [
    {
     "data": {
      "text/plain": [
       "9"
      ]
     },
     "execution_count": 138,
     "metadata": {},
     "output_type": "execute_result"
    }
   ],
   "source": [
    "add(*lst)"
   ]
  },
  {
   "cell_type": "code",
   "execution_count": 139,
   "id": "tired-panic",
   "metadata": {
    "id": "tired-panic"
   },
   "outputs": [],
   "source": [
    "lists = [[1, 6], [2, 4], [3, 7], [2, 3]]"
   ]
  },
  {
   "cell_type": "code",
   "execution_count": 140,
   "id": "alien-politics",
   "metadata": {
    "colab": {
     "base_uri": "https://localhost:8080/"
    },
    "executionInfo": {
     "elapsed": 150,
     "status": "ok",
     "timestamp": 1650628494945,
     "user": {
      "displayName": "wien hong",
      "userId": "11131435925814580522"
     },
     "user_tz": -480
    },
    "id": "alien-politics",
    "outputId": "076d6c00-1f09-4fcc-aeb4-621016ab7b55"
   },
   "outputs": [
    {
     "data": {
      "text/plain": [
       "[7, 6, 10, 5]"
      ]
     },
     "execution_count": 140,
     "metadata": {},
     "output_type": "execute_result"
    }
   ],
   "source": [
    "result = []\n",
    "for lst in lists:\n",
    "  a, b = lst\n",
    "  result.append(add(a, b))\n",
    "result"
   ]
  },
  {
   "cell_type": "code",
   "execution_count": 141,
   "id": "voluntary-traveler",
   "metadata": {
    "colab": {
     "base_uri": "https://localhost:8080/"
    },
    "executionInfo": {
     "elapsed": 147,
     "status": "ok",
     "timestamp": 1650628494946,
     "user": {
      "displayName": "wien hong",
      "userId": "11131435925814580522"
     },
     "user_tz": -480
    },
    "id": "voluntary-traveler",
    "outputId": "c03085de-2db1-4058-89d1-b1255f34b661"
   },
   "outputs": [
    {
     "data": {
      "text/plain": [
       "[7, 6, 10, 5]"
      ]
     },
     "execution_count": 141,
     "metadata": {},
     "output_type": "execute_result"
    }
   ],
   "source": [
    "result = []\n",
    "for lst in lists:\n",
    "  result.append(add(*lst))\n",
    "result"
   ]
  },
  {
   "cell_type": "code",
   "execution_count": 142,
   "id": "binary-hammer",
   "metadata": {
    "colab": {
     "base_uri": "https://localhost:8080/"
    },
    "executionInfo": {
     "elapsed": 142,
     "status": "ok",
     "timestamp": 1650628494946,
     "user": {
      "displayName": "wien hong",
      "userId": "11131435925814580522"
     },
     "user_tz": -480
    },
    "id": "binary-hammer",
    "outputId": "7b621049-f321-48d0-f4f5-db150f2fbfd9"
   },
   "outputs": [
    {
     "data": {
      "text/plain": [
       "[7, 6, 10, 5]"
      ]
     },
     "execution_count": 142,
     "metadata": {},
     "output_type": "execute_result"
    }
   ],
   "source": [
    "[add(*lst) for lst in lists]"
   ]
  },
  {
   "cell_type": "markdown",
   "id": "modified-sixth",
   "metadata": {
    "id": "modified-sixth"
   },
   "source": [
    "#### 6.7.2 使用zip() 與enumerate() 函數"
   ]
  },
  {
   "cell_type": "code",
   "execution_count": 143,
   "id": "waiting-imaging",
   "metadata": {
    "id": "waiting-imaging"
   },
   "outputs": [],
   "source": [
    "x = (3, 5, 6)\n",
    "y = (2, 8, 1)"
   ]
  },
  {
   "cell_type": "code",
   "execution_count": 144,
   "id": "genuine-joshua",
   "metadata": {
    "colab": {
     "base_uri": "https://localhost:8080/"
    },
    "executionInfo": {
     "elapsed": 138,
     "status": "ok",
     "timestamp": 1650628494947,
     "user": {
      "displayName": "wien hong",
      "userId": "11131435925814580522"
     },
     "user_tz": -480
    },
    "id": "genuine-joshua",
    "outputId": "af330707-4cd4-4a42-886b-0498accb4536"
   },
   "outputs": [
    {
     "data": {
      "text/plain": [
       "<zip at 0x23ed03b5dc0>"
      ]
     },
     "execution_count": 144,
     "metadata": {},
     "output_type": "execute_result"
    }
   ],
   "source": [
    "zip(x, y)"
   ]
  },
  {
   "cell_type": "code",
   "execution_count": 145,
   "id": "significant-stable",
   "metadata": {
    "colab": {
     "base_uri": "https://localhost:8080/"
    },
    "executionInfo": {
     "elapsed": 132,
     "status": "ok",
     "timestamp": 1650628494947,
     "user": {
      "displayName": "wien hong",
      "userId": "11131435925814580522"
     },
     "user_tz": -480
    },
    "id": "significant-stable",
    "outputId": "8a86a1ee-7c1a-48ff-fbe9-2f3a784ab494"
   },
   "outputs": [
    {
     "data": {
      "text/plain": [
       "[(3, 2), (5, 8), (6, 1)]"
      ]
     },
     "execution_count": 145,
     "metadata": {},
     "output_type": "execute_result"
    }
   ],
   "source": [
    "lst = list(zip(x, y))\n",
    "lst"
   ]
  },
  {
   "cell_type": "code",
   "execution_count": 146,
   "id": "discrete-brain",
   "metadata": {
    "colab": {
     "base_uri": "https://localhost:8080/"
    },
    "executionInfo": {
     "elapsed": 127,
     "status": "ok",
     "timestamp": 1650628494947,
     "user": {
      "displayName": "wien hong",
      "userId": "11131435925814580522"
     },
     "user_tz": -480
    },
    "id": "discrete-brain",
    "outputId": "6675d46b-d436-49ca-de1c-da87c267de4c"
   },
   "outputs": [
    {
     "data": {
      "text/plain": [
       "[(3, 5, 6), (2, 8, 1)]"
      ]
     },
     "execution_count": 146,
     "metadata": {},
     "output_type": "execute_result"
    }
   ],
   "source": [
    "list(zip((3, 2), (5, 8), (6, 1)))"
   ]
  },
  {
   "cell_type": "code",
   "execution_count": 147,
   "id": "honey-robinson",
   "metadata": {
    "colab": {
     "base_uri": "https://localhost:8080/"
    },
    "executionInfo": {
     "elapsed": 124,
     "status": "ok",
     "timestamp": 1650628494948,
     "user": {
      "displayName": "wien hong",
      "userId": "11131435925814580522"
     },
     "user_tz": -480
    },
    "id": "honey-robinson",
    "outputId": "609270aa-45c9-48e1-ea3c-a6d785732ffb"
   },
   "outputs": [
    {
     "data": {
      "text/plain": [
       "[(3, 5, 6), (2, 8, 1)]"
      ]
     },
     "execution_count": 147,
     "metadata": {},
     "output_type": "execute_result"
    }
   ],
   "source": [
    "list(zip(*lst))"
   ]
  },
  {
   "cell_type": "code",
   "execution_count": 148,
   "id": "enabling-prompt",
   "metadata": {
    "colab": {
     "base_uri": "https://localhost:8080/"
    },
    "executionInfo": {
     "elapsed": 118,
     "status": "ok",
     "timestamp": 1650628494948,
     "user": {
      "displayName": "wien hong",
      "userId": "11131435925814580522"
     },
     "user_tz": -480
    },
    "id": "enabling-prompt",
    "outputId": "f2937420-20b6-4248-d12e-e2fe17cb9827"
   },
   "outputs": [
    {
     "name": "stdout",
     "output_type": "stream",
     "text": [
      "5\n",
      "13\n",
      "7\n"
     ]
    }
   ],
   "source": [
    "for a, b in zip(x, y):\n",
    "  print(a + b)"
   ]
  },
  {
   "cell_type": "code",
   "execution_count": 149,
   "id": "advised-oklahoma",
   "metadata": {
    "id": "advised-oklahoma"
   },
   "outputs": [],
   "source": [
    "drink = ['coke', 'pesi']"
   ]
  },
  {
   "cell_type": "code",
   "execution_count": 150,
   "id": "tight-programming",
   "metadata": {
    "id": "tight-programming"
   },
   "outputs": [],
   "source": [
    "price = [68, 65]"
   ]
  },
  {
   "cell_type": "code",
   "execution_count": 151,
   "id": "attached-appreciation",
   "metadata": {
    "id": "attached-appreciation"
   },
   "outputs": [],
   "source": [
    "z = zip(drink, price)"
   ]
  },
  {
   "cell_type": "code",
   "execution_count": 152,
   "id": "mysterious-origin",
   "metadata": {
    "colab": {
     "base_uri": "https://localhost:8080/"
    },
    "executionInfo": {
     "elapsed": 113,
     "status": "ok",
     "timestamp": 1650628494949,
     "user": {
      "displayName": "wien hong",
      "userId": "11131435925814580522"
     },
     "user_tz": -480
    },
    "id": "mysterious-origin",
    "outputId": "a61cf124-82ca-48c0-c292-7af714328036"
   },
   "outputs": [
    {
     "data": {
      "text/plain": [
       "[('coke', 68), ('pesi', 65)]"
      ]
     },
     "execution_count": 152,
     "metadata": {},
     "output_type": "execute_result"
    }
   ],
   "source": [
    "list(z)"
   ]
  },
  {
   "cell_type": "code",
   "execution_count": 153,
   "id": "extraordinary-louisiana",
   "metadata": {
    "colab": {
     "base_uri": "https://localhost:8080/"
    },
    "executionInfo": {
     "elapsed": 109,
     "status": "ok",
     "timestamp": 1650628494950,
     "user": {
      "displayName": "wien hong",
      "userId": "11131435925814580522"
     },
     "user_tz": -480
    },
    "id": "extraordinary-louisiana",
    "outputId": "3252ec7f-7cdc-4416-be20-5953db1a501d"
   },
   "outputs": [
    {
     "data": {
      "text/plain": [
       "[]"
      ]
     },
     "execution_count": 153,
     "metadata": {},
     "output_type": "execute_result"
    }
   ],
   "source": [
    "list(z)"
   ]
  },
  {
   "cell_type": "code",
   "execution_count": 154,
   "id": "described-missouri",
   "metadata": {
    "id": "described-missouri"
   },
   "outputs": [],
   "source": [
    "z = zip(drink, price)"
   ]
  },
  {
   "cell_type": "code",
   "execution_count": 155,
   "id": "particular-myrtle",
   "metadata": {
    "colab": {
     "base_uri": "https://localhost:8080/"
    },
    "executionInfo": {
     "elapsed": 104,
     "status": "ok",
     "timestamp": 1650628494950,
     "user": {
      "displayName": "wien hong",
      "userId": "11131435925814580522"
     },
     "user_tz": -480
    },
    "id": "particular-myrtle",
    "outputId": "536e5e0a-5f9d-4356-b9fc-e2cf2b2b2946"
   },
   "outputs": [
    {
     "data": {
      "text/plain": [
       "('coke', 68)"
      ]
     },
     "execution_count": 155,
     "metadata": {},
     "output_type": "execute_result"
    }
   ],
   "source": [
    "next(z)"
   ]
  },
  {
   "cell_type": "code",
   "execution_count": 156,
   "id": "following-anaheim",
   "metadata": {
    "colab": {
     "base_uri": "https://localhost:8080/"
    },
    "executionInfo": {
     "elapsed": 100,
     "status": "ok",
     "timestamp": 1650628494951,
     "user": {
      "displayName": "wien hong",
      "userId": "11131435925814580522"
     },
     "user_tz": -480
    },
    "id": "following-anaheim",
    "outputId": "a6744670-9278-4bbc-fead-d2ded26ff292"
   },
   "outputs": [
    {
     "data": {
      "text/plain": [
       "('pesi', 65)"
      ]
     },
     "execution_count": 156,
     "metadata": {},
     "output_type": "execute_result"
    }
   ],
   "source": [
    "next(z)"
   ]
  },
  {
   "cell_type": "code",
   "execution_count": 157,
   "id": "incorporated-quarterly",
   "metadata": {
    "id": "incorporated-quarterly"
   },
   "outputs": [],
   "source": [
    "# next(z)   # no more elements"
   ]
  },
  {
   "cell_type": "code",
   "execution_count": 158,
   "id": "VU-F8ek1kIsr",
   "metadata": {
    "colab": {
     "base_uri": "https://localhost:8080/"
    },
    "executionInfo": {
     "elapsed": 95,
     "status": "ok",
     "timestamp": 1650628494951,
     "user": {
      "displayName": "wien hong",
      "userId": "11131435925814580522"
     },
     "user_tz": -480
    },
    "id": "VU-F8ek1kIsr",
    "outputId": "41893edd-dd0c-4bae-9919-dbc971fc5b8c"
   },
   "outputs": [
    {
     "data": {
      "text/plain": [
       "<enumerate at 0x23ed03bd6c0>"
      ]
     },
     "execution_count": 158,
     "metadata": {},
     "output_type": "execute_result"
    }
   ],
   "source": [
    "enumerate([3, 5, 6])"
   ]
  },
  {
   "cell_type": "code",
   "execution_count": 159,
   "id": "M6prNpXYkLgv",
   "metadata": {
    "colab": {
     "base_uri": "https://localhost:8080/"
    },
    "executionInfo": {
     "elapsed": 91,
     "status": "ok",
     "timestamp": 1650628494952,
     "user": {
      "displayName": "wien hong",
      "userId": "11131435925814580522"
     },
     "user_tz": -480
    },
    "id": "M6prNpXYkLgv",
    "outputId": "76c82b6e-756b-452d-b9b6-fc254c710f2e"
   },
   "outputs": [
    {
     "data": {
      "text/plain": [
       "[(0, 3), (1, 5), (2, 6)]"
      ]
     },
     "execution_count": 159,
     "metadata": {},
     "output_type": "execute_result"
    }
   ],
   "source": [
    "list(enumerate([3, 5, 6]))"
   ]
  },
  {
   "cell_type": "code",
   "execution_count": 160,
   "id": "zPA1C1sCkNvW",
   "metadata": {
    "colab": {
     "base_uri": "https://localhost:8080/"
    },
    "executionInfo": {
     "elapsed": 87,
     "status": "ok",
     "timestamp": 1650628494952,
     "user": {
      "displayName": "wien hong",
      "userId": "11131435925814580522"
     },
     "user_tz": -480
    },
    "id": "zPA1C1sCkNvW",
    "outputId": "d4af64b3-6e37-4e17-dace-e2e5b340ff84"
   },
   "outputs": [
    {
     "data": {
      "text/plain": [
       "[(1, 'c'), (2, 'a'), (3, 't')]"
      ]
     },
     "execution_count": 160,
     "metadata": {},
     "output_type": "execute_result"
    }
   ],
   "source": [
    "list(enumerate('cat', start=1))"
   ]
  },
  {
   "cell_type": "code",
   "execution_count": 161,
   "id": "1N9RnBXrkPZJ",
   "metadata": {
    "colab": {
     "base_uri": "https://localhost:8080/"
    },
    "executionInfo": {
     "elapsed": 82,
     "status": "ok",
     "timestamp": 1650628494952,
     "user": {
      "displayName": "wien hong",
      "userId": "11131435925814580522"
     },
     "user_tz": -480
    },
    "id": "1N9RnBXrkPZJ",
    "outputId": "20152098-4686-4aa7-82d3-f2793953da38"
   },
   "outputs": [
    {
     "name": "stdout",
     "output_type": "stream",
     "text": [
      "0: c\n",
      "1: a\n",
      "2: t\n"
     ]
    }
   ],
   "source": [
    "for i, c in enumerate('cat'):\n",
    "  print(f'{i}: {c}')"
   ]
  },
  {
   "cell_type": "code",
   "execution_count": 162,
   "id": "kQrR080vknh0",
   "metadata": {
    "colab": {
     "base_uri": "https://localhost:8080/"
    },
    "executionInfo": {
     "elapsed": 78,
     "status": "ok",
     "timestamp": 1650628494953,
     "user": {
      "displayName": "wien hong",
      "userId": "11131435925814580522"
     },
     "user_tz": -480
    },
    "id": "kQrR080vknh0",
    "outputId": "a8380bee-29f3-4b09-e450-ffabb0194d4f"
   },
   "outputs": [
    {
     "name": "stdout",
     "output_type": "stream",
     "text": [
      "0: candy: 30\n",
      "1: tea: 40\n",
      "2: milk: 55\n"
     ]
    }
   ],
   "source": [
    "s1 = ['candy', 'tea', 'milk']\n",
    "s2 = [30, 40, 55]\n",
    "for i, (d, p) in enumerate(zip(s1, s2)):\n",
    "  print(f'{i}: {d}: {p}')"
   ]
  },
  {
   "cell_type": "markdown",
   "id": "nasty-tracker",
   "metadata": {
    "id": "nasty-tracker"
   },
   "source": [
    "#### 6.7.3 產生器的設計與應用"
   ]
  },
  {
   "cell_type": "code",
   "execution_count": 163,
   "id": "parliamentary-compensation",
   "metadata": {
    "id": "parliamentary-compensation"
   },
   "outputs": [],
   "source": [
    "def gen_test():\n",
    "  a = 5\n",
    "  yield a\n",
    "  b = a + 2\n",
    "  yield b\n",
    "  yield b**2"
   ]
  },
  {
   "cell_type": "code",
   "execution_count": 164,
   "id": "golden-mystery",
   "metadata": {
    "id": "golden-mystery"
   },
   "outputs": [],
   "source": [
    "gi = gen_test()"
   ]
  },
  {
   "cell_type": "code",
   "execution_count": 165,
   "id": "sFPoiqaECreH",
   "metadata": {
    "colab": {
     "base_uri": "https://localhost:8080/"
    },
    "executionInfo": {
     "elapsed": 73,
     "status": "ok",
     "timestamp": 1650628494954,
     "user": {
      "displayName": "wien hong",
      "userId": "11131435925814580522"
     },
     "user_tz": -480
    },
    "id": "sFPoiqaECreH",
    "outputId": "ccb43e21-f8ef-4bb0-ce5a-08e41bdadb43"
   },
   "outputs": [
    {
     "data": {
      "text/plain": [
       "5"
      ]
     },
     "execution_count": 165,
     "metadata": {},
     "output_type": "execute_result"
    }
   ],
   "source": [
    "next(gi)"
   ]
  },
  {
   "cell_type": "code",
   "execution_count": 166,
   "id": "entertaining-partition",
   "metadata": {
    "colab": {
     "base_uri": "https://localhost:8080/"
    },
    "executionInfo": {
     "elapsed": 69,
     "status": "ok",
     "timestamp": 1650628494954,
     "user": {
      "displayName": "wien hong",
      "userId": "11131435925814580522"
     },
     "user_tz": -480
    },
    "id": "entertaining-partition",
    "outputId": "701159d8-7f1a-4982-e54d-2ae70680d581"
   },
   "outputs": [
    {
     "data": {
      "text/plain": [
       "7"
      ]
     },
     "execution_count": 166,
     "metadata": {},
     "output_type": "execute_result"
    }
   ],
   "source": [
    "next(gi)"
   ]
  },
  {
   "cell_type": "code",
   "execution_count": 167,
   "id": "cdlSrckRCxG6",
   "metadata": {
    "colab": {
     "base_uri": "https://localhost:8080/"
    },
    "executionInfo": {
     "elapsed": 65,
     "status": "ok",
     "timestamp": 1650628494955,
     "user": {
      "displayName": "wien hong",
      "userId": "11131435925814580522"
     },
     "user_tz": -480
    },
    "id": "cdlSrckRCxG6",
    "outputId": "af6782ea-5a6c-4252-c6a2-e5bc2cb87af0"
   },
   "outputs": [
    {
     "data": {
      "text/plain": [
       "49"
      ]
     },
     "execution_count": 167,
     "metadata": {},
     "output_type": "execute_result"
    }
   ],
   "source": [
    "next(gi)"
   ]
  },
  {
   "cell_type": "code",
   "execution_count": 168,
   "id": "subtle-deviation",
   "metadata": {
    "colab": {
     "base_uri": "https://localhost:8080/"
    },
    "executionInfo": {
     "elapsed": 60,
     "status": "ok",
     "timestamp": 1650628494955,
     "user": {
      "displayName": "wien hong",
      "userId": "11131435925814580522"
     },
     "user_tz": -480
    },
    "id": "subtle-deviation",
    "outputId": "1883e571-e127-429c-bfe6-df95f8414903"
   },
   "outputs": [
    {
     "name": "stdout",
     "output_type": "stream",
     "text": [
      "5\n",
      "7\n",
      "49\n"
     ]
    }
   ],
   "source": [
    "gi = gen_test()\n",
    "for i in gi:\n",
    "  print(i)"
   ]
  },
  {
   "cell_type": "code",
   "execution_count": 169,
   "id": "intense-flower",
   "metadata": {
    "id": "intense-flower"
   },
   "outputs": [],
   "source": [
    "def squ(n):\n",
    "  for i in range(1, n + 1):\n",
    "    lst.append(i**2)\n",
    "  return lst"
   ]
  },
  {
   "cell_type": "code",
   "execution_count": 170,
   "id": "buried-riding",
   "metadata": {
    "colab": {
     "base_uri": "https://localhost:8080/"
    },
    "executionInfo": {
     "elapsed": 55,
     "status": "ok",
     "timestamp": 1650628494956,
     "user": {
      "displayName": "wien hong",
      "userId": "11131435925814580522"
     },
     "user_tz": -480
    },
    "id": "buried-riding",
    "outputId": "f00eb02c-e7d0-45b1-fbe8-9645ed58df50"
   },
   "outputs": [
    {
     "data": {
      "text/plain": [
       "[(3, 2), (5, 8), (6, 1), 1, 4, 9, 16, 25, 36, 49, 64, 81]"
      ]
     },
     "execution_count": 170,
     "metadata": {},
     "output_type": "execute_result"
    }
   ],
   "source": [
    "squ(9)"
   ]
  },
  {
   "cell_type": "code",
   "execution_count": 171,
   "id": "elegant-martin",
   "metadata": {
    "id": "elegant-martin"
   },
   "outputs": [],
   "source": [
    "def squ_gen(n):\n",
    "  for i in range(1, n + 1):\n",
    "    yield i**2"
   ]
  },
  {
   "cell_type": "code",
   "execution_count": 172,
   "id": "spare-charles",
   "metadata": {
    "colab": {
     "base_uri": "https://localhost:8080/"
    },
    "executionInfo": {
     "elapsed": 50,
     "status": "ok",
     "timestamp": 1650628494956,
     "user": {
      "displayName": "wien hong",
      "userId": "11131435925814580522"
     },
     "user_tz": -480
    },
    "id": "spare-charles",
    "outputId": "a2c6daac-e84f-416b-8016-baf18d1cde3e"
   },
   "outputs": [
    {
     "name": "stdout",
     "output_type": "stream",
     "text": [
      "1\n",
      "4\n"
     ]
    }
   ],
   "source": [
    "gi = squ_gen(9)\n",
    "print(next(gi))\n",
    "print(next(gi))"
   ]
  },
  {
   "cell_type": "code",
   "execution_count": 173,
   "id": "large-covering",
   "metadata": {
    "colab": {
     "base_uri": "https://localhost:8080/"
    },
    "executionInfo": {
     "elapsed": 47,
     "status": "ok",
     "timestamp": 1650628494957,
     "user": {
      "displayName": "wien hong",
      "userId": "11131435925814580522"
     },
     "user_tz": -480
    },
    "id": "large-covering",
    "outputId": "e7fb2167-6ef0-4564-bd32-7697a6f34767"
   },
   "outputs": [
    {
     "data": {
      "text/plain": [
       "[9, 16, 25, 36, 49, 64, 81]"
      ]
     },
     "execution_count": 173,
     "metadata": {},
     "output_type": "execute_result"
    }
   ],
   "source": [
    "list(gi)"
   ]
  },
  {
   "cell_type": "code",
   "execution_count": 174,
   "id": "UVjmTykuby03",
   "metadata": {
    "id": "UVjmTykuby03"
   },
   "outputs": [],
   "source": [
    "lst = [i**2 for i in range(1, 11)]"
   ]
  },
  {
   "cell_type": "code",
   "execution_count": 175,
   "id": "8crWYfmWb4n2",
   "metadata": {
    "colab": {
     "base_uri": "https://localhost:8080/"
    },
    "executionInfo": {
     "elapsed": 41,
     "status": "ok",
     "timestamp": 1650628494957,
     "user": {
      "displayName": "wien hong",
      "userId": "11131435925814580522"
     },
     "user_tz": -480
    },
    "id": "8crWYfmWb4n2",
    "outputId": "09988fa7-cbdf-4398-eb08-8518609169b0"
   },
   "outputs": [
    {
     "data": {
      "text/plain": [
       "[1, 4, 9, 16, 25, 36, 49, 64, 81, 100]"
      ]
     },
     "execution_count": 175,
     "metadata": {},
     "output_type": "execute_result"
    }
   ],
   "source": [
    "lst"
   ]
  },
  {
   "cell_type": "code",
   "execution_count": 176,
   "id": "respective-brother",
   "metadata": {
    "id": "respective-brother"
   },
   "outputs": [],
   "source": [
    "gen = (i**2 for i in range(1, 11))"
   ]
  },
  {
   "cell_type": "code",
   "execution_count": 177,
   "id": "gentle-cooler",
   "metadata": {
    "colab": {
     "base_uri": "https://localhost:8080/"
    },
    "executionInfo": {
     "elapsed": 37,
     "status": "ok",
     "timestamp": 1650628494958,
     "user": {
      "displayName": "wien hong",
      "userId": "11131435925814580522"
     },
     "user_tz": -480
    },
    "id": "gentle-cooler",
    "outputId": "6b0899d2-f589-475b-f7f2-07783f98899c"
   },
   "outputs": [
    {
     "name": "stdout",
     "output_type": "stream",
     "text": [
      "1\n",
      "4\n",
      "9\n"
     ]
    }
   ],
   "source": [
    "print(next(gen))\n",
    "print(next(gen))\n",
    "print(next(gen))"
   ]
  },
  {
   "cell_type": "code",
   "execution_count": 178,
   "id": "medieval-moscow",
   "metadata": {
    "colab": {
     "base_uri": "https://localhost:8080/"
    },
    "executionInfo": {
     "elapsed": 33,
     "status": "ok",
     "timestamp": 1650628494958,
     "user": {
      "displayName": "wien hong",
      "userId": "11131435925814580522"
     },
     "user_tz": -480
    },
    "id": "medieval-moscow",
    "outputId": "a2b0272a-5c6c-4514-fb74-c00bd9985f51"
   },
   "outputs": [
    {
     "name": "stdout",
     "output_type": "stream",
     "text": [
      "  16  25  36  49  64  81 100"
     ]
    }
   ],
   "source": [
    "for i in gen:\n",
    "  print(f'{i:4d}', end='')"
   ]
  }
 ],
 "metadata": {
  "colab": {
   "collapsed_sections": [],
   "name": "第06章-函數.ipynb",
   "provenance": [
    {
     "file_id": "18eQvOoPXpxNKfTPDzmPyClLEQr2GXtrt",
     "timestamp": 1650528068918
    },
    {
     "file_id": "1FrOZN_7ie_kLpyX8suFlUXc1w-Gvae-5",
     "timestamp": 1649122830967
    }
   ]
  },
  "kernelspec": {
   "display_name": "Python 3 (ipykernel)",
   "language": "python",
   "name": "python3"
  },
  "language_info": {
   "codemirror_mode": {
    "name": "ipython",
    "version": 3
   },
   "file_extension": ".py",
   "mimetype": "text/x-python",
   "name": "python",
   "nbconvert_exporter": "python",
   "pygments_lexer": "ipython3",
   "version": "3.8.13"
  },
  "toc": {
   "base_numbering": 1,
   "nav_menu": {},
   "number_sections": true,
   "sideBar": true,
   "skip_h1_title": false,
   "title_cell": "Table of Contents",
   "title_sidebar": "Contents",
   "toc_cell": false,
   "toc_position": {},
   "toc_section_display": true,
   "toc_window_display": false
  },
  "varInspector": {
   "cols": {
    "lenName": 16,
    "lenType": 16,
    "lenVar": 40
   },
   "kernels_config": {
    "python": {
     "delete_cmd_postfix": "",
     "delete_cmd_prefix": "del ",
     "library": "var_list.py",
     "varRefreshCmd": "print(var_dic_list())"
    },
    "r": {
     "delete_cmd_postfix": ") ",
     "delete_cmd_prefix": "rm(",
     "library": "var_list.r",
     "varRefreshCmd": "cat(var_dic_list()) "
    }
   },
   "types_to_exclude": [
    "module",
    "function",
    "builtin_function_or_method",
    "instance",
    "_Feature"
   ],
   "window_display": false
  }
 },
 "nbformat": 4,
 "nbformat_minor": 5
}
